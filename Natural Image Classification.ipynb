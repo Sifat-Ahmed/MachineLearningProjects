{
 "cells": [
  {
   "cell_type": "markdown",
   "metadata": {},
   "source": [
    "### Natural Image Classification (Kaggle Challenge)"
   ]
  },
  {
   "cell_type": "markdown",
   "metadata": {},
   "source": [
    "1. Download the dataset from https://www.kaggle.com/prasunroy/natural-images\n",
    "2. This dataset contains 6,899 images from 8 distinct classes compiled from various sources\n",
    "(see Acknowledgements). The classes include airplane, car, cat, dog, flower, fruit,\n",
    "motorbike and person.\n",
    "3. Design a suitable model to classify these images.\n",
    "4. Randomly select 20% of the images as train set, train the model with the rest 80%\n",
    "images. Report classification accuracy. Show some images that are correctly predicted.\n",
    "Also, show some images that are not correctly predicted. Mention the true labels and the\n",
    "predicted labels for these images."
   ]
  },
  {
   "cell_type": "markdown",
   "metadata": {},
   "source": [
    "***\n",
    "***"
   ]
  },
  {
   "cell_type": "markdown",
   "metadata": {},
   "source": [
    "## Import Modules"
   ]
  },
  {
   "cell_type": "code",
   "execution_count": 12,
   "metadata": {
    "collapsed": true
   },
   "outputs": [],
   "source": [
    "import numpy as np\n",
    "import os\n",
    "from tensorflow import keras\n",
    "from PIL import Image\n",
    "from sklearn.model_selection import train_test_split\n",
    "\n",
    "from sklearn.metrics import confusion_matrix\n",
    "\n",
    "import pandas as pd\n",
    "import matplotlib.pyplot as plt\n",
    "import seaborn as sns\n",
    "\n",
    "import tensorflow as tf\n",
    "import time\n",
    "from tensorflow.keras import models , optimizers , losses ,activations\n",
    "from tensorflow.keras.layers import *\n",
    "\n",
    "from tensorflow.keras.callbacks import TensorBoard\n"
   ]
  },
  {
   "cell_type": "markdown",
   "metadata": {},
   "source": [
    "## Load Dataset"
   ]
  },
  {
   "cell_type": "code",
   "execution_count": 3,
   "metadata": {
    "collapsed": true
   },
   "outputs": [],
   "source": [
    "dimen = 32\n",
    "\n",
    "dir_path = 'natural_images/'\n",
    "output_path = 'processed_data/'\n",
    "\n",
    "sub_dir_list = os.listdir( dir_path )\n",
    "images = list()\n",
    "labels = list()\n",
    "for i in range( len( sub_dir_list ) ):\n",
    "    label = i\n",
    "    image_names = os.listdir( dir_path + sub_dir_list[i] )\n",
    "    for image_path in image_names:\n",
    "        path = dir_path + sub_dir_list[i] + \"/\" + image_path\n",
    "        image = Image.open( path ).convert( 'L' )\n",
    "        resize_image = image.resize((dimen, dimen))\n",
    "        array = list()\n",
    "        for x in range(dimen):\n",
    "            sub_array = list()\n",
    "            for y in range(dimen):\n",
    "                sub_array.append(resize_image.load()[x, y])\n",
    "            array.append(sub_array)\n",
    "        image_data = np.array(array)\n",
    "        image = np.array(np.reshape(image_data, (dimen, dimen, 1))) / 255\n",
    "        images.append(image)\n",
    "        labels.append( label )\n",
    "\n",
    "x = np.array( images )\n",
    "y = np.array( keras.utils.to_categorical( np.array( labels) , num_classes=len(sub_dir_list) ) )\n",
    "\n",
    "train_features , test_features ,train_labels, test_labels = train_test_split( x , y , test_size=0.4 )\n",
    "\n",
    "np.save( '{}x.npy'.format( output_path )  , train_features )\n",
    "np.save( '{}y.npy'.format( output_path )  , train_labels )\n",
    "np.save( '{}test_x.npy'.format( output_path ) , test_features )\n",
    "np.save( '{}test_y.npy'.format( output_path ) , test_labels )\n"
   ]
  },
  {
   "cell_type": "markdown",
   "metadata": {},
   "source": [
    "## Create a Classifier Class"
   ]
  },
  {
   "cell_type": "code",
   "execution_count": 5,
   "metadata": {
    "collapsed": true
   },
   "outputs": [],
   "source": [
    "class Classifier (object) :\n",
    "\n",
    "    def __init__( self , number_of_classes ):\n",
    "\n",
    "        dropout_rate = 0.5\n",
    "        self.__DIMEN = 32\n",
    "\n",
    "        input_shape = ( self.__DIMEN**2 , )\n",
    "        convolution_shape = ( self.__DIMEN , self.__DIMEN , 1 )\n",
    "        kernel_size = ( 3 , 3 )\n",
    "        pool_size = ( 2 , 2 )\n",
    "        strides = 1\n",
    "\n",
    "        activation_func = activations.relu\n",
    "\n",
    "        self.__NEURAL_SCHEMA = [\n",
    "\n",
    "            Reshape( input_shape=input_shape , target_shape=convolution_shape),\n",
    "\n",
    "            Conv2D( 32, kernel_size=( 4 , 4 ) , strides=strides , activation=activation_func),\n",
    "            MaxPooling2D(pool_size=pool_size, strides=strides ),\n",
    "\n",
    "            Conv2D( 64, kernel_size=( 3 , 3 ) , strides=strides , activation=activation_func),\n",
    "            MaxPooling2D(pool_size=pool_size , strides=strides),\n",
    "\n",
    "            Flatten(),\n",
    "\n",
    "            Dense( 100, activation=activation_func) ,\n",
    "            Dropout(dropout_rate),\n",
    "\n",
    "            Dense( number_of_classes, activation=tf.nn.softmax )\n",
    "\n",
    "        ]\n",
    "\n",
    "        self.__model = tf.keras.Sequential( self.__NEURAL_SCHEMA )\n",
    "\n",
    "        self.__model.compile(\n",
    "            optimizer=optimizers.Adam(),\n",
    "            loss=losses.categorical_crossentropy ,\n",
    "            metrics=[ 'accuracy' ] ,\n",
    "        )\n",
    "\n",
    "    def fit(self, X, Y  , hyperparameters):\n",
    "        initial_time = time.time()\n",
    "        self.__model.fit(X, Y,\n",
    "                         batch_size=hyperparameters['batch_size'],\n",
    "                         epochs=hyperparameters['epochs'],\n",
    "                         callbacks=hyperparameters['callbacks'],\n",
    "                         validation_data=hyperparameters['val_data']\n",
    "                         )\n",
    "        final_time = time.time()\n",
    "        eta = (final_time - initial_time)\n",
    "        time_unit = 'seconds'\n",
    "        if eta >= 60:\n",
    "            eta = eta / 60\n",
    "            time_unit = 'minutes'\n",
    "        self.__model.summary()\n",
    "        print('Elapsed time acquired for {} epoch(s) -> {} {}'.format(hyperparameters['epochs'], eta, time_unit))\n",
    "\n",
    "    def prepare_images_from_dir( self , dir_path ) :\n",
    "        images = list()\n",
    "        images_names = os.listdir( dir_path )\n",
    "        for imageName in images_names :\n",
    "            image = Image.open(dir_path + imageName).convert('L')\n",
    "            resize_image = image.resize((self.__DIMEN, self.__DIMEN))\n",
    "            array = list()\n",
    "            for x in range(self.__DIMEN):\n",
    "                sub_array = list()\n",
    "                for y in range(self.__DIMEN):\n",
    "                    sub_array.append(resize_image.load()[x, y])\n",
    "                array.append(sub_array)\n",
    "            image_data = np.array(array)\n",
    "            image = np.array(np.reshape(image_data,(self.__DIMEN, self.__DIMEN, 1)))\n",
    "            images.append(image)\n",
    "\n",
    "        return np.array( images )\n",
    "\n",
    "    def evaluate(self , test_X , test_Y  ) :\n",
    "        return self.__model.evaluate(test_X, test_Y)\n",
    "\n",
    "    def predict(self, X  ):\n",
    "        predictions = self.__model.predict( X  )\n",
    "        return predictions\n",
    "\n",
    "    def save_model(self , file_path ):\n",
    "        self.__model.save(file_path )\n",
    "\n",
    "    def load_model(self , file_path ):\n",
    "        self.__model = models.load_model(file_path)\n"
   ]
  },
  {
   "cell_type": "markdown",
   "metadata": {},
   "source": [
    "## Tarin Classifier"
   ]
  },
  {
   "cell_type": "code",
   "execution_count": 6,
   "metadata": {},
   "outputs": [
    {
     "name": "stdout",
     "output_type": "stream",
     "text": [
      "(4139, 32, 32, 1)\n",
      "(4139, 8)\n",
      "(2760, 32, 32, 1)\n",
      "(2760, 8)\n",
      "Epoch 1/10\n",
      "4139/4139 [==============================] - 3s 661us/step - loss: 0.3054 - acc: 0.9099\n",
      "Epoch 2/10\n",
      "4139/4139 [==============================] - 1s 171us/step - loss: 0.2511 - acc: 0.9169\n",
      "Epoch 3/10\n",
      "4139/4139 [==============================] - 1s 159us/step - loss: 0.2170 - acc: 0.9258\n",
      "Epoch 4/10\n",
      "4139/4139 [==============================] - 1s 164us/step - loss: 0.1903 - acc: 0.9362\n",
      "Epoch 5/10\n",
      "4139/4139 [==============================] - 1s 161us/step - loss: 0.1718 - acc: 0.9379\n",
      "Epoch 6/10\n",
      "4139/4139 [==============================] - 1s 160us/step - loss: 0.1554 - acc: 0.9461\n",
      "Epoch 7/10\n",
      "4139/4139 [==============================] - 1s 160us/step - loss: 0.1586 - acc: 0.9435\n",
      "Epoch 8/10\n",
      "4139/4139 [==============================] - 1s 161us/step - loss: 0.1496 - acc: 0.9437\n",
      "Epoch 9/10\n",
      "4139/4139 [==============================] - 1s 159us/step - loss: 0.1396 - acc: 0.9505\n",
      "Epoch 10/10\n",
      "4139/4139 [==============================] - 1s 161us/step - loss: 0.1270 - acc: 0.9522\n",
      "_________________________________________________________________\n",
      "Layer (type)                 Output Shape              Param #   \n",
      "=================================================================\n",
      "reshape (Reshape)            (None, 32, 32, 1)         0         \n",
      "_________________________________________________________________\n",
      "conv2d (Conv2D)              (None, 29, 29, 32)        544       \n",
      "_________________________________________________________________\n",
      "max_pooling2d (MaxPooling2D) (None, 28, 28, 32)        0         \n",
      "_________________________________________________________________\n",
      "conv2d_1 (Conv2D)            (None, 26, 26, 64)        18496     \n",
      "_________________________________________________________________\n",
      "max_pooling2d_1 (MaxPooling2 (None, 25, 25, 64)        0         \n",
      "_________________________________________________________________\n",
      "flatten (Flatten)            (None, 40000)             0         \n",
      "_________________________________________________________________\n",
      "dense (Dense)                (None, 100)               4000100   \n",
      "_________________________________________________________________\n",
      "dropout (Dropout)            (None, 100)               0         \n",
      "_________________________________________________________________\n",
      "dense_1 (Dense)              (None, 8)                 808       \n",
      "=================================================================\n",
      "Total params: 4,019,948\n",
      "Trainable params: 4,019,948\n",
      "Non-trainable params: 0\n",
      "_________________________________________________________________\n",
      "Elapsed time acquired for 10 epoch(s) -> 8.778521060943604 seconds\n",
      "2760/2760 [==============================] - 1s 189us/step\n"
     ]
    }
   ],
   "source": [
    "data_dimension = 32\n",
    "\n",
    "X = np.load( 'processed_data/x.npy'.format( data_dimension ))\n",
    "Y = np.load( 'processed_data/y.npy'.format( data_dimension ))\n",
    "test_X = np.load( 'processed_data/test_x.npy'.format( data_dimension ))\n",
    "test_Y = np.load( 'processed_data/test_y.npy'.format( data_dimension ))\n",
    "\n",
    "print( X.shape )\n",
    "print( Y.shape )\n",
    "print( test_X.shape )\n",
    "print( test_Y.shape )\n",
    "\n",
    "X = X.reshape( ( X.shape[0] , data_dimension**2  ) ).astype( np.float32 )\n",
    "test_X = test_X.reshape( ( test_X.shape[0] , data_dimension**2 ) ).astype( np.float32 )\n",
    "\n",
    "classifier = Classifier( number_of_classes=8 )\n",
    "classifier.load_model( 'models/model.h5')\n",
    "\n",
    "parameters = {\n",
    "    'batch_size' : 250 ,\n",
    "    'epochs' : 10 ,\n",
    "    'callbacks' : None ,\n",
    "    'val_data' : None\n",
    "}\n",
    "\n",
    "classifier.fit( X , Y  , hyperparameters=parameters )\n",
    "classifier.save_model( 'models/model.h5')\n",
    "\n",
    "loss , accuracy = classifier.evaluate( test_X , test_Y )"
   ]
  },
  {
   "cell_type": "markdown",
   "metadata": {},
   "source": [
    "## Prediction with Test Data"
   ]
  },
  {
   "cell_type": "code",
   "execution_count": 7,
   "metadata": {},
   "outputs": [
    {
     "name": "stdout",
     "output_type": "stream",
     "text": [
      "Loss of 0.2120695508044699 Accuracy of 92.8623188405797 %\n"
     ]
    }
   ],
   "source": [
    "print( \"Loss of {}\".format( loss ) , \"Accuracy of {} %\".format( accuracy * 100 ) )\n",
    "\n",
    "pred_Y =  classifier.predict( test_X ).argmax( 1 ) "
   ]
  },
  {
   "cell_type": "code",
   "execution_count": 8,
   "metadata": {},
   "outputs": [
    {
     "name": "stdout",
     "output_type": "stream",
     "text": [
      "[5 0 3 ... 2 0 1]\n"
     ]
    }
   ],
   "source": [
    "print(test_Y.argmax(1))"
   ]
  },
  {
   "cell_type": "code",
   "execution_count": 9,
   "metadata": {
    "collapsed": true
   },
   "outputs": [],
   "source": [
    "cm = confusion_matrix(test_Y.argmax(1), pred_Y)"
   ]
  },
  {
   "cell_type": "code",
   "execution_count": 10,
   "metadata": {
    "collapsed": true
   },
   "outputs": [],
   "source": [
    "class_name = np.unique(labels)"
   ]
  },
  {
   "cell_type": "code",
   "execution_count": 11,
   "metadata": {},
   "outputs": [
    {
     "data": {
      "text/plain": [
       "array([0, 1, 2, 3, 4, 5, 6, 7])"
      ]
     },
     "execution_count": 11,
     "metadata": {},
     "output_type": "execute_result"
    }
   ],
   "source": [
    "class_name"
   ]
  },
  {
   "cell_type": "markdown",
   "metadata": {},
   "source": [
    "### Plotting the prediction"
   ]
  },
  {
   "cell_type": "code",
   "execution_count": 13,
   "metadata": {
    "collapsed": true
   },
   "outputs": [],
   "source": [
    "def print_confusion_matrix(confusion_matrix, class_names, figsize = (10,7), fontsize=14):\n",
    "    \"\"\"Prints a confusion matrix, as returned by sklearn.metrics.confusion_matrix, as a heatmap.\n",
    "    \n",
    "    Arguments\n",
    "    ---------\n",
    "    confusion_matrix: numpy.ndarray\n",
    "        The numpy.ndarray object returned from a call to sklearn.metrics.confusion_matrix. \n",
    "        Similarly constructed ndarrays can also be used.\n",
    "    class_names: list\n",
    "        An ordered list of class names, in the order they index the given confusion matrix.\n",
    "    figsize: tuple\n",
    "        A 2-long tuple, the first value determining the horizontal size of the ouputted figure,\n",
    "        the second determining the vertical size. Defaults to (10,7).\n",
    "    fontsize: int\n",
    "        Font size for axes labels. Defaults to 14.\n",
    "        \n",
    "    Returns\n",
    "    -------\n",
    "    matplotlib.figure.Figure\n",
    "        The resulting confusion matrix figure\n",
    "    \"\"\"\n",
    "    df_cm = pd.DataFrame(\n",
    "        confusion_matrix, index=class_names, columns=class_names, \n",
    "    )\n",
    "    fig = plt.figure(figsize=figsize)\n",
    "    try:\n",
    "        heatmap = sns.heatmap(df_cm, annot=True, fmt=\"d\")\n",
    "    except ValueError:\n",
    "        raise ValueError(\"Confusion matrix values must be integers.\")\n",
    "    heatmap.yaxis.set_ticklabels(heatmap.yaxis.get_ticklabels(), rotation=0, ha='right', fontsize=fontsize)\n",
    "    heatmap.xaxis.set_ticklabels(heatmap.xaxis.get_ticklabels(), rotation=45, ha='right', fontsize=fontsize)\n",
    "    plt.ylabel('True label')\n",
    "    plt.xlabel('Predicted label')\n",
    "    return fig"
   ]
  },
  {
   "cell_type": "markdown",
   "metadata": {},
   "source": [
    "### Confusion Matrix"
   ]
  },
  {
   "cell_type": "code",
   "execution_count": 14,
   "metadata": {
    "scrolled": true
   },
   "outputs": [
    {
     "data": {
      "image/png": "[encoded data removed]",
      "text/plain": [
       "<Figure size 720x504 with 2 Axes>"
      ]
     },
     "execution_count": 14,
     "metadata": {},
     "output_type": "execute_result"
    }
   ],
   "source": [
    "print_confusion_matrix(cm, class_name)"
   ]
  },
  {
   "cell_type": "code",
   "execution_count": null,
   "metadata": {
    "collapsed": true
   },
   "outputs": [],
   "source": []
  }
 ],
 "metadata": {
  "kernelspec": {
   "display_name": "Python 3",
   "language": "python",
   "name": "python3"
  },
  "language_info": {
   "codemirror_mode": {
    "name": "ipython",
    "version": 3
   },
   "file_extension": ".py",
   "mimetype": "text/x-python",
   "name": "python",
   "nbconvert_exporter": "python",
   "pygments_lexer": "ipython3",
   "version": "3.6.3"
  }
 },
 "nbformat": 4,
 "nbformat_minor": 2
}
