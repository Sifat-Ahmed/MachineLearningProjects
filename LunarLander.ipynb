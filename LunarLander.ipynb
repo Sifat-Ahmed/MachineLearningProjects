{
 "cells": [
  {
   "cell_type": "markdown",
   "metadata": {},
   "source": [
    "<br> </br><br> </br>\n",
    "<br> </br><br> </br>\n",
    "\n",
    "# <center> Reinforcement Learning Project: Lunar Lander </center>\n"
   ]
  },
  {
   "cell_type": "markdown",
   "metadata": {},
   "source": [
    "<br> </br><br> </br>\n",
    "<br> </br><br> </br>\n",
    "<br> </br>\n",
    "<br> \n",
    "<br>\n",
    "<br>\n",
    "<br>\n",
    "<br> \n",
    "<br>\n",
    "<br>\n",
    "<br>\n",
    "\n",
    "\n",
    "##  <center> Table of Contents </center>\n",
    "<br> </br><br> </br>"
   ]
  },
  {
   "cell_type": "markdown",
   "metadata": {},
   "source": [
    "[ **1 ) Abstract**](#content1)"
   ]
  },
  {
   "cell_type": "markdown",
   "metadata": {},
   "source": [
    "[ **2 ) Prerequisites**](#content2)"
   ]
  },
  {
   "cell_type": "markdown",
   "metadata": {},
   "source": [
    "[ **3 ) Algorithm**](#content3)"
   ]
  },
  {
   "cell_type": "markdown",
   "metadata": {},
   "source": [
    "[ **4 ) OpenAI**](#content4)"
   ]
  },
  {
   "cell_type": "markdown",
   "metadata": {},
   "source": [
    "[ **5 ) Architecture**](#content5)"
   ]
  },
  {
   "cell_type": "markdown",
   "metadata": {},
   "source": [
    "[ **6 ) Loss Function**](#content6)"
   ]
  },
  {
   "cell_type": "markdown",
   "metadata": {},
   "source": [
    "[ **7 ) Training**](#content7)"
   ]
  },
  {
   "cell_type": "markdown",
   "metadata": {},
   "source": [
    "[ **8 ) Performance Analysis**](#content8)"
   ]
  },
  {
   "cell_type": "markdown",
   "metadata": {},
   "source": [
    "[ **9 ) Observation**](#content9)"
   ]
  },
  {
   "cell_type": "markdown",
   "metadata": {},
   "source": [
    "[ **10 ) Conclusion**](#content10)"
   ]
  },
  {
   "cell_type": "markdown",
   "metadata": {},
   "source": [
    "<br>"
   ]
  },
  {
   "cell_type": "markdown",
   "metadata": {},
   "source": [
    "<br>"
   ]
  },
  {
   "cell_type": "markdown",
   "metadata": {},
   "source": [
    "***\n",
    "***\n",
    "***\n",
    "\n",
    "<br> \n",
    "<br>\n",
    "<br>\n",
    "<br>\n",
    "<br> \n",
    "<br>\n",
    "<br>\n",
    "<br>\n"
   ]
  },
  {
   "cell_type": "markdown",
   "metadata": {},
   "source": [
    "<a id=\"content1\"></a>\n",
    "## 1. Abstract"
   ]
  },
  {
   "cell_type": "markdown",
   "metadata": {},
   "source": [
    "<div style=\"text-align: justify; font-size:14px\">\n",
    "This project is a demonstration of reinforcement learning algorithm. In this project a rocket (agent) tries to land in it's certain landing zone properly. For this project, I have used OpenAI GYM packages to make the  rendering and environmental stuff easy. For decision making and learning process Policy Gradient procedure has been used.\n",
    "</div>"
   ]
  },
  {
   "cell_type": "markdown",
   "metadata": {},
   "source": [
    "***"
   ]
  },
  {
   "cell_type": "markdown",
   "metadata": {},
   "source": [
    "<a id=\"content2\"></a>\n",
    "## 2. Prerequisites\n",
    "\n",
    "   - OpenAI GYM  [ https://gym.openai.com/ ]\n",
    "   - PyBox2D   [ https://www.lfd.uci.edu/~gohlke/pythonlibs/#pybox2d ]\n",
    "   - Tensorflow   [ https://www.tensorflow.org ]\n",
    "   - Anaconda   [ https://www.anaconda.com/ ]\n",
    "    "
   ]
  },
  {
   "cell_type": "markdown",
   "metadata": {},
   "source": [
    "***"
   ]
  },
  {
   "cell_type": "markdown",
   "metadata": {},
   "source": [
    "<a id=\"content3\"></a>\n",
    "## 3. Algorithm\n",
    "    \n",
    "    \n",
    "#### The agent will play 5,000 episodes (games) total. For each episode here are the step’s that will be followed are given below:\n",
    "\n",
    "   - Get the state from the environment created using gym.\n",
    "   - Feed forward the policy network to predict the probability of each action the agent should take. From this distribution samples will be chosen to decide which action to take (i.e. toss a biased coin).\n",
    "   - After taking the action, a reward has been received now and the agent goes to a new state.\n",
    "   - Store this transition sequence of state, action, reward, for training.\n",
    "   - Repeat steps 1–4. If we receive the done == True from the game it means the episode is over.\n",
    "   - Once the episode is over, we train our neural network to learn from our stored transitions using our reward guided loss function.\n",
    "   - Play next episode and repeat steps above. Eventually the agent gets higher scores."
   ]
  },
  {
   "cell_type": "markdown",
   "metadata": {},
   "source": [
    "***"
   ]
  },
  {
   "cell_type": "markdown",
   "metadata": {},
   "source": [
    "<a id=\"content4\"></a>\n",
    "## 4. OpenAI "
   ]
  },
  {
   "cell_type": "markdown",
   "metadata": {},
   "source": [
    "<div style=\"text-align: justify; font-size:14px\">\n",
    "Gym is a toolkit for developing and comparing reinforcement learning algorithms. It supports teaching agents everything from walking to playing games like Pong or Pinball. [https://gym.openai.com/]\n",
    "</div>\n",
    "\n",
    "   - ### LunarLander-v2\n",
    "\n",
    "<div style=\"text-align: justify; font-size:14px\">\n",
    "Landing pad is always at coordinates (0,0). Coordinates are the first two numbers in state vector. Reward for moving from the top of the screen to landing pad and zero speed is about 100..140 points. If lander moves away from landing pad it loses reward back. Episode finishes if the lander crashes or comes to rest, receiving additional -100 or +100 points. Each leg ground contact is +10. Firing main engine is -0.3 points each frame. Solved is 200 points. Landing outside landing pad is possible. Fuel is infinite, so an agent can learn to fly and then land on its first attempt. Four discrete actions available: do nothing, fire left orientation engine, fire main engine, fire right orientation engine. [https://gym.openai.com/envs/LunarLander-v2/]\n",
    "</div>\n",
    "\n",
    "<br>"
   ]
  },
  {
   "cell_type": "markdown",
   "metadata": {},
   "source": [
    "![SegmentLocal](images/original.gif \"segment\")\n",
    "\n",
    "\n",
    "\n",
    "<center> Fig 1: Random Agent in Lunar Lander Module </center>"
   ]
  },
  {
   "cell_type": "markdown",
   "metadata": {},
   "source": [
    "***"
   ]
  },
  {
   "cell_type": "markdown",
   "metadata": {},
   "source": [
    "<a id=\"content5\"></a>\n",
    "## 5. Architecture"
   ]
  },
  {
   "cell_type": "markdown",
   "metadata": {},
   "source": [
    "<div style=\"text-align: justify; font-size:14px\">\n",
    "Before jumping in the architecture, the expected input and outputs from the network needs to be understood. When the agent takes a action it gets several information. Which are Observtion, Reward, Done & Info. Here the most necessary part is the observation and reward. These two plays the major role of decision making. So the observation and the reward from taking an action should be fed into the network. So that's how the input and outputs are decided.\n",
    "</div>\n",
    "\n",
    "  - Input:\n",
    "     - Observations (8)\n",
    "  - Output\n",
    "     - Decisions (4)\n",
    "         - Fire Main Engine\n",
    "         - Fire Left Engine\n",
    "         - Fire Right Engine\n",
    "         - Do Nothing\n",
    "  - Reward\n",
    "      - Positive/Negative Based on the heuristic function.\n",
    "         \n",
    "So for the architecture is very small. Training a huge network isn't worth it here because of the rendering decision stuff.\n",
    "\n",
    "\n",
    "*** The architecture, optimizer, loss function can be varied accordingly. But from observation it doesn't affect the agent very much. So keeping it simple. ***"
   ]
  },
  {
   "cell_type": "markdown",
   "metadata": {},
   "source": [
    "![SegmentLocal](images/architecture.png \"segment\")\n",
    "\n",
    "\n",
    "<br>\n",
    "<br>\n",
    "<center> Fig 2: Model Architecture </center>"
   ]
  },
  {
   "cell_type": "markdown",
   "metadata": {},
   "source": [
    "***"
   ]
  },
  {
   "cell_type": "markdown",
   "metadata": {},
   "source": [
    "<a id=\"content6\"></a>\n",
    "## 6. Loss Function"
   ]
  },
  {
   "cell_type": "markdown",
   "metadata": {},
   "source": [
    "<div style=\"text-align: justify; font-size:14px\">\n",
    "In reinforcement learning, there isn't any predefined value like supervised learning. So calculating the error and minimizing the loss works a bit differently here. For loss function Categorical Crossentropy has been used. Because the output is a softmax probablity. At the same time it gives us the negative log probability of our actions as an output. This will be then multiplied with the reward (reward guided loss), so the parameters can be updated in a way that encourages actions that lead to high rewards and discourages actions that lead to low rewards. Optimizer used here is Adam.\n",
    "</div>"
   ]
  },
  {
   "cell_type": "markdown",
   "metadata": {},
   "source": [
    "***"
   ]
  },
  {
   "cell_type": "markdown",
   "metadata": {},
   "source": [
    "<a id=\"content7\"></a>\n",
    "## 7. Training"
   ]
  },
  {
   "cell_type": "markdown",
   "metadata": {},
   "source": [
    "<div style=\"text-align: justify; font-size:14px\">\n",
    "For initial training, some random actions were taken and the rewards were observed. These data were stored and used to train the network further. After the initial phase the network is trained from the previous desicions.\n",
    "\n",
    "</div>"
   ]
  },
  {
   "cell_type": "markdown",
   "metadata": {},
   "source": [
    "***"
   ]
  },
  {
   "cell_type": "markdown",
   "metadata": {},
   "source": [
    "#### Importing Modules"
   ]
  },
  {
   "cell_type": "code",
   "execution_count": 1,
   "metadata": {},
   "outputs": [
    {
     "name": "stderr",
     "output_type": "stream",
     "text": [
      "D:\\Anaconda3\\lib\\site-packages\\h5py\\__init__.py:34: FutureWarning: Conversion of the second argument of issubdtype from `float` to `np.floating` is deprecated. In future, it will be treated as `np.float64 == np.dtype(float).type`.\n",
      "  from ._conv import register_converters as _register_converters\n"
     ]
    }
   ],
   "source": [
    "import tensorflow as tf\n",
    "import numpy as np\n",
    "from tensorflow.python.framework import ops\n",
    "\n",
    "import gym\n",
    "import matplotlib.pyplot as plt\n",
    "%matplotlib inline\n",
    "\n",
    "import time"
   ]
  },
  {
   "cell_type": "markdown",
   "metadata": {},
   "source": [
    "#### Policy Gradient Class\n",
    "\n",
    "  - The main task of learning, taking decisions and evaluation remains in it"
   ]
  },
  {
   "cell_type": "code",
   "execution_count": 2,
   "metadata": {
    "collapsed": true
   },
   "outputs": [],
   "source": [
    "class PolicyGradient:\n",
    "    def __init__(\n",
    "        self,\n",
    "        n_x,\n",
    "        n_y,\n",
    "        learning_rate=0.01,\n",
    "        reward_decay=0.95,\n",
    "        load_path=None,\n",
    "        save_path=None\n",
    "    ):\n",
    "\n",
    "        self.n_x = n_x\n",
    "        self.n_y = n_y\n",
    "        self.lr = learning_rate\n",
    "        self.gamma = reward_decay\n",
    "\n",
    "        self.save_path = None\n",
    "        if save_path is not None:\n",
    "            self.save_path = save_path\n",
    "\n",
    "        self.episode_observations, self.episode_actions, self.episode_rewards = [], [], []\n",
    "\n",
    "        self.build_network()\n",
    "\n",
    "        self.cost_history = []\n",
    "\n",
    "        self.sess = tf.Session()\n",
    "\n",
    "        # $ tensorboard --logdir=logs\n",
    "        # http://0.0.0.0:6006/\n",
    "        tf.summary.FileWriter(\"logs/\", self.sess.graph)\n",
    "\n",
    "        self.sess.run(tf.global_variables_initializer())\n",
    "\n",
    "        # 'Saver' op to save and restore all the variables\n",
    "        self.saver = tf.train.Saver()\n",
    "\n",
    "        # Restore model\n",
    "        if load_path is not None:\n",
    "            self.load_path = load_path\n",
    "            self.saver.restore(self.sess, self.load_path)\n",
    "\n",
    "    def store_transition(self, s, a, r):\n",
    "        \"\"\"\n",
    "            Store play memory for training\n",
    "\n",
    "            Arguments:\n",
    "                s: observation\n",
    "                a: action taken\n",
    "                r: reward after action\n",
    "        \"\"\"\n",
    "        self.episode_observations.append(s)\n",
    "        self.episode_rewards.append(r)\n",
    "\n",
    "        # Store actions as list of arrays\n",
    "        # e.g. for n_y = [ array([ 1.,  0.]), array([ 0.,  1.]), array([ 0.,  1.]), array([ 1.,  0.]) ]\n",
    "        action = np.zeros(self.n_y)\n",
    "        action[a] = 1\n",
    "        self.episode_actions.append(action)\n",
    "\n",
    "\n",
    "    def choose_action(self, observation):\n",
    "        \"\"\"\n",
    "            Choose action based on observation\n",
    "\n",
    "            Arguments:\n",
    "                observation: array of state, has shape (num_features)\n",
    "\n",
    "            Returns: index of action we want to choose\n",
    "        \"\"\"\n",
    "        # Reshape observation to (num_features, 1)\n",
    "        observation = observation[:, np.newaxis]\n",
    "\n",
    "        # Run forward propagation to get softmax probabilities\n",
    "        prob_weights = self.sess.run(self.outputs_softmax, feed_dict = {self.X: observation})\n",
    "\n",
    "        # Select action using a biased sample\n",
    "        # this will return the index of the action we've sampled\n",
    "        action = np.random.choice(range(len(prob_weights.ravel())), p=prob_weights.ravel())\n",
    "        return action\n",
    "\n",
    "    def learn(self):\n",
    "        # Discount and normalize episode reward\n",
    "        discounted_episode_rewards_norm = self.discount_and_norm_rewards()\n",
    "\n",
    "        # Train on episode\n",
    "        self.sess.run(self.train_op, feed_dict={\n",
    "             self.X: np.vstack(self.episode_observations).T,\n",
    "             self.Y: np.vstack(np.array(self.episode_actions)).T,\n",
    "             self.discounted_episode_rewards_norm: discounted_episode_rewards_norm,\n",
    "        })\n",
    "\n",
    "        # Reset the episode data\n",
    "        self.episode_observations, self.episode_actions, self.episode_rewards  = [], [], []\n",
    "\n",
    "        # Save checkpoint\n",
    "        if self.save_path is not None:\n",
    "            save_path = self.saver.save(self.sess, self.save_path)\n",
    "            print(\"Model saved in file: %s\" % save_path)\n",
    "\n",
    "        return discounted_episode_rewards_norm\n",
    "\n",
    "    def discount_and_norm_rewards(self):\n",
    "        discounted_episode_rewards = np.zeros_like(self.episode_rewards)\n",
    "        cumulative = 0\n",
    "        for t in reversed(range(len(self.episode_rewards))):\n",
    "            cumulative = cumulative * self.gamma + self.episode_rewards[t]\n",
    "            discounted_episode_rewards[t] = cumulative\n",
    "\n",
    "        discounted_episode_rewards -= np.mean(discounted_episode_rewards)\n",
    "        discounted_episode_rewards /= np.std(discounted_episode_rewards)\n",
    "        return discounted_episode_rewards\n",
    "\n",
    "\n",
    "    def build_network(self):\n",
    "        # Create placeholders\n",
    "        with tf.name_scope('inputs'):\n",
    "            self.X = tf.placeholder(tf.float32, shape=(self.n_x, None), name=\"X\")\n",
    "            self.Y = tf.placeholder(tf.float32, shape=(self.n_y, None), name=\"Y\")\n",
    "            self.discounted_episode_rewards_norm = tf.placeholder(tf.float32, [None, ], name=\"actions_value\")\n",
    "\n",
    "        # Initialize parameters\n",
    "        units_layer_1 = 10\n",
    "        units_layer_2 = 10\n",
    "        units_output_layer = self.n_y\n",
    "        with tf.name_scope('parameters'):\n",
    "            W1 = tf.get_variable(\"W1\", [units_layer_1, self.n_x], initializer = tf.contrib.layers.xavier_initializer(seed=1))\n",
    "            b1 = tf.get_variable(\"b1\", [units_layer_1, 1], initializer = tf.contrib.layers.xavier_initializer(seed=1))\n",
    "            W2 = tf.get_variable(\"W2\", [units_layer_2, units_layer_1], initializer = tf.contrib.layers.xavier_initializer(seed=1))\n",
    "            b2 = tf.get_variable(\"b2\", [units_layer_2, 1], initializer = tf.contrib.layers.xavier_initializer(seed=1))\n",
    "            W3 = tf.get_variable(\"W3\", [self.n_y, units_layer_2], initializer = tf.contrib.layers.xavier_initializer(seed=1))\n",
    "            b3 = tf.get_variable(\"b3\", [self.n_y, 1], initializer = tf.contrib.layers.xavier_initializer(seed=1))\n",
    "\n",
    "        # Forward prop\n",
    "        with tf.name_scope('layer_1'):\n",
    "            Z1 = tf.add(tf.matmul(W1,self.X), b1)\n",
    "            A1 = tf.nn.relu(Z1)\n",
    "        with tf.name_scope('layer_2'):\n",
    "            Z2 = tf.add(tf.matmul(W2, A1), b2)\n",
    "            A2 = tf.nn.relu(Z2)\n",
    "        with tf.name_scope('layer_3'):\n",
    "            Z3 = tf.add(tf.matmul(W3, A2), b3)\n",
    "            A3 = tf.nn.softmax(Z3)\n",
    "\n",
    "        # Softmax outputs, we need to transpose as tensorflow nn functions expects them in this shape\n",
    "        logits = tf.transpose(Z3)\n",
    "        labels = tf.transpose(self.Y)\n",
    "        self.outputs_softmax = tf.nn.softmax(logits, name='A3')\n",
    "\n",
    "        with tf.name_scope('loss'):\n",
    "            neg_log_prob = tf.nn.softmax_cross_entropy_with_logits(logits=logits, labels=labels)\n",
    "            loss = tf.reduce_mean(neg_log_prob * self.discounted_episode_rewards_norm)  # reward guided loss\n",
    "\n",
    "        with tf.name_scope('train'):\n",
    "            self.train_op = tf.train.AdamOptimizer(self.lr).minimize(loss)\n",
    "\n",
    "    def plot_cost(self):\n",
    "        plt.plot(np.arange(len(self.cost_history)), self.cost_history)\n",
    "        plt.ylabel('Cost')\n",
    "        plt.xlabel('Training Steps')\n",
    "        plt.show()"
   ]
  },
  {
   "cell_type": "markdown",
   "metadata": {},
   "source": [
    "***"
   ]
  },
  {
   "cell_type": "markdown",
   "metadata": {},
   "source": [
    "#### Main Function"
   ]
  },
  {
   "cell_type": "code",
   "execution_count": 3,
   "metadata": {},
   "outputs": [
    {
     "name": "stdout",
     "output_type": "stream",
     "text": [
      "env.action_space Discrete(4)\n",
      "env.observation_space Box(8,)\n",
      "env.observation_space.high [inf inf inf inf inf inf inf inf]\n",
      "env.observation_space.low [-inf -inf -inf -inf -inf -inf -inf -inf]\n",
      "WARNING:tensorflow:From <ipython-input-2-1fac275f263c>:151: softmax_cross_entropy_with_logits (from tensorflow.python.ops.nn_ops) is deprecated and will be removed in a future version.\n",
      "Instructions for updating:\n",
      "\n",
      "Future major versions of TensorFlow will allow gradients to flow\n",
      "into the labels input on backprop by default.\n",
      "\n",
      "See `tf.nn.softmax_cross_entropy_with_logits_v2`.\n",
      "\n",
      "INFO:tensorflow:Restoring parameters from output/weights/LunarLander/8/LunarLander-v2.ckpt\n",
      "==========================================\n",
      "Episode:  0\n",
      "Seconds:  0.4932925986272954\n",
      "Reward:  9.800205419202626\n",
      "Max reward so far:  9.800205419202626\n",
      "Model saved in file: output/weights/LunarLander/9/LunarLander-v2.ckpt\n",
      "==========================================\n",
      "Episode:  1\n",
      "Seconds:  1.0705205976332164\n",
      "Reward:  -51.76788529207235\n",
      "Max reward so far:  9.800205419202626\n",
      "Model saved in file: output/weights/LunarLander/9/LunarLander-v2.ckpt\n",
      "==========================================\n",
      "Episode:  2\n",
      "Seconds:  1.5363289060614715\n",
      "Reward:  168.32798390210436\n",
      "Max reward so far:  168.32798390210436\n",
      "Model saved in file: output/weights/LunarLander/9/LunarLander-v2.ckpt\n",
      "==========================================\n",
      "Episode:  3\n",
      "Seconds:  120.00245195076926\n",
      "Reward:  -64.04494661996489\n",
      "Max reward so far:  168.32798390210436\n",
      "Model saved in file: output/weights/LunarLander/9/LunarLander-v2.ckpt\n",
      "==========================================\n",
      "Episode:  4\n",
      "Seconds:  0.4319129288732029\n",
      "Reward:  216.7109218133395\n",
      "Max reward so far:  216.7109218133395\n",
      "Model saved in file: output/weights/LunarLander/9/LunarLander-v2.ckpt\n",
      "==========================================\n",
      "Episode:  5\n",
      "Seconds:  0.1754823762921518\n",
      "Reward:  -25.33061557948399\n",
      "Max reward so far:  216.7109218133395\n",
      "Model saved in file: output/weights/LunarLander/9/LunarLander-v2.ckpt\n",
      "==========================================\n",
      "Episode:  6\n",
      "Seconds:  0.3872436499323584\n",
      "Reward:  -21.844862427968025\n",
      "Max reward so far:  216.7109218133395\n",
      "Model saved in file: output/weights/LunarLander/9/LunarLander-v2.ckpt\n",
      "==========================================\n",
      "Episode:  7\n",
      "Seconds:  0.14821640668139935\n",
      "Reward:  -30.43440424650312\n",
      "Max reward so far:  216.7109218133395\n",
      "Model saved in file: output/weights/LunarLander/9/LunarLander-v2.ckpt\n",
      "==========================================\n",
      "Episode:  8\n",
      "Seconds:  0.13188031931325384\n",
      "Reward:  57.73330053509943\n",
      "Max reward so far:  216.7109218133395\n",
      "Model saved in file: output/weights/LunarLander/9/LunarLander-v2.ckpt\n",
      "==========================================\n",
      "Episode:  9\n",
      "Seconds:  0.13931042278557015\n",
      "Reward:  17.29290886995976\n",
      "Max reward so far:  216.7109218133395\n",
      "Model saved in file: output/weights/LunarLander/9/LunarLander-v2.ckpt\n",
      "==========================================\n",
      "Episode:  10\n",
      "Seconds:  22.29656690874947\n",
      "Reward:  152.1766978857363\n",
      "Max reward so far:  216.7109218133395\n",
      "Model saved in file: output/weights/LunarLander/9/LunarLander-v2.ckpt\n",
      "==========================================\n",
      "Episode:  11\n",
      "Seconds:  0.23623728344909978\n",
      "Reward:  20.17219696645192\n",
      "Max reward so far:  216.7109218133395\n",
      "Model saved in file: output/weights/LunarLander/9/LunarLander-v2.ckpt\n",
      "==========================================\n",
      "Episode:  12\n",
      "Seconds:  0.11976712839992842\n",
      "Reward:  0.19568571406185242\n",
      "Max reward so far:  216.7109218133395\n",
      "Model saved in file: output/weights/LunarLander/9/LunarLander-v2.ckpt\n",
      "==========================================\n",
      "Episode:  13\n",
      "Seconds:  120.0094855862697\n",
      "Reward:  -148.45298016632344\n",
      "Max reward so far:  216.7109218133395\n",
      "Model saved in file: output/weights/LunarLander/9/LunarLander-v2.ckpt\n",
      "==========================================\n",
      "Episode:  14\n",
      "Seconds:  0.12351154813404719\n",
      "Reward:  38.61994095042965\n",
      "Max reward so far:  216.7109218133395\n",
      "Model saved in file: output/weights/LunarLander/9/LunarLander-v2.ckpt\n",
      "==========================================\n",
      "Episode:  15\n",
      "Seconds:  1.1179133427957595\n",
      "Reward:  207.19168216552652\n",
      "Max reward so far:  216.7109218133395\n",
      "Model saved in file: output/weights/LunarLander/9/LunarLander-v2.ckpt\n",
      "==========================================\n",
      "Episode:  16\n",
      "Seconds:  0.6702572276443561\n",
      "Reward:  -26.781716228087774\n",
      "Max reward so far:  216.7109218133395\n",
      "Model saved in file: output/weights/LunarLander/9/LunarLander-v2.ckpt\n",
      "==========================================\n",
      "Episode:  17\n",
      "Seconds:  0.4476372753036344\n",
      "Reward:  1.8774942940977155\n",
      "Max reward so far:  216.7109218133395\n",
      "Model saved in file: output/weights/LunarLander/9/LunarLander-v2.ckpt\n",
      "==========================================\n",
      "Episode:  18\n",
      "Seconds:  1.0235157316884056\n",
      "Reward:  261.22786123892126\n",
      "Max reward so far:  261.22786123892126\n",
      "Model saved in file: output/weights/LunarLander/9/LunarLander-v2.ckpt\n",
      "==========================================\n",
      "Episode:  19\n",
      "Seconds:  5.469958339001437\n",
      "Reward:  198.49725508308407\n",
      "Max reward so far:  261.22786123892126\n",
      "Model saved in file: output/weights/LunarLander/9/LunarLander-v2.ckpt\n",
      "==========================================\n",
      "Episode:  20\n",
      "Seconds:  0.49302856370263726\n",
      "Reward:  -43.902485687570746\n",
      "Max reward so far:  261.22786123892126\n",
      "Model saved in file: output/weights/LunarLander/9/LunarLander-v2.ckpt\n",
      "==========================================\n",
      "Episode:  21\n",
      "Seconds:  1.48493546382457\n",
      "Reward:  183.1897364772881\n",
      "Max reward so far:  261.22786123892126\n",
      "Model saved in file: output/weights/LunarLander/9/LunarLander-v2.ckpt\n",
      "==========================================\n",
      "Episode:  22\n",
      "Seconds:  0.5731588689552609\n",
      "Reward:  -29.422645644263383\n",
      "Max reward so far:  261.22786123892126\n",
      "Model saved in file: output/weights/LunarLander/9/LunarLander-v2.ckpt\n",
      "==========================================\n",
      "Episode:  23\n",
      "Seconds:  0.8649476598554315\n",
      "Reward:  200.44208573951806\n",
      "Max reward so far:  261.22786123892126\n",
      "Model saved in file: output/weights/LunarLander/9/LunarLander-v2.ckpt\n",
      "==========================================\n",
      "Episode:  24\n",
      "Seconds:  1.4422360571966806\n",
      "Reward:  202.66781290764632\n",
      "Max reward so far:  261.22786123892126\n",
      "Model saved in file: output/weights/LunarLander/9/LunarLander-v2.ckpt\n",
      "==========================================\n",
      "Episode:  25\n",
      "Seconds:  2.085074934109059\n",
      "Reward:  -57.6712621341545\n",
      "Max reward so far:  261.22786123892126\n",
      "Model saved in file: output/weights/LunarLander/9/LunarLander-v2.ckpt\n",
      "==========================================\n",
      "Episode:  26\n",
      "Seconds:  4.160724126170464\n",
      "Reward:  92.20718118699841\n",
      "Max reward so far:  261.22786123892126\n",
      "Model saved in file: output/weights/LunarLander/9/LunarLander-v2.ckpt\n",
      "==========================================\n",
      "Episode:  27\n",
      "Seconds:  0.767089334956097\n",
      "Reward:  197.86295696012195\n",
      "Max reward so far:  261.22786123892126\n",
      "Model saved in file: output/weights/LunarLander/9/LunarLander-v2.ckpt\n",
      "==========================================\n",
      "Episode:  28\n",
      "Seconds:  1.272038258189582\n",
      "Reward:  208.53339981652817\n",
      "Max reward so far:  261.22786123892126\n",
      "Model saved in file: output/weights/LunarLander/9/LunarLander-v2.ckpt\n",
      "==========================================\n",
      "Episode:  29\n",
      "Seconds:  0.8493873309227524\n",
      "Reward:  -38.51707531895835\n",
      "Max reward so far:  261.22786123892126\n",
      "Model saved in file: output/weights/LunarLander/9/LunarLander-v2.ckpt\n",
      "==========================================\n",
      "Episode:  30\n",
      "Seconds:  0.6729992566571354\n",
      "Reward:  172.3980631611601\n",
      "Max reward so far:  261.22786123892126\n",
      "Model saved in file: output/weights/LunarLander/9/LunarLander-v2.ckpt\n",
      "==========================================\n",
      "Episode:  31\n",
      "Seconds:  15.96118243317187\n",
      "Reward:  -77.67338791192267\n",
      "Max reward so far:  261.22786123892126\n",
      "Model saved in file: output/weights/LunarLander/9/LunarLander-v2.ckpt\n",
      "==========================================\n",
      "Episode:  32\n",
      "Seconds:  11.696325204585492\n",
      "Reward:  -251.23845699640444\n",
      "Max reward so far:  261.22786123892126\n",
      "Model saved in file: output/weights/LunarLander/9/LunarLander-v2.ckpt\n",
      "==========================================\n",
      "Episode:  33\n",
      "Seconds:  4.446173585369877\n",
      "Reward:  95.97011388021103\n",
      "Max reward so far:  261.22786123892126\n",
      "Model saved in file: output/weights/LunarLander/9/LunarLander-v2.ckpt\n",
      "==========================================\n",
      "Episode:  34\n",
      "Seconds:  0.16633535316816506\n",
      "Reward:  34.69581138803858\n",
      "Max reward so far:  261.22786123892126\n",
      "Model saved in file: output/weights/LunarLander/9/LunarLander-v2.ckpt\n"
     ]
    },
    {
     "name": "stdout",
     "output_type": "stream",
     "text": [
      "==========================================\n",
      "Episode:  35\n",
      "Seconds:  0.14474544179580562\n",
      "Reward:  -3.2745613370671407\n",
      "Max reward so far:  261.22786123892126\n",
      "Model saved in file: output/weights/LunarLander/9/LunarLander-v2.ckpt\n",
      "==========================================\n",
      "Episode:  36\n",
      "Seconds:  0.730769433233661\n",
      "Reward:  206.64967384958666\n",
      "Max reward so far:  261.22786123892126\n",
      "Model saved in file: output/weights/LunarLander/9/LunarLander-v2.ckpt\n",
      "==========================================\n",
      "Episode:  37\n",
      "Seconds:  18.039594156433395\n",
      "Reward:  -250.2309806132953\n",
      "Max reward so far:  261.22786123892126\n",
      "Model saved in file: output/weights/LunarLander/9/LunarLander-v2.ckpt\n",
      "==========================================\n",
      "Episode:  38\n",
      "Seconds:  11.166618227940603\n",
      "Reward:  -250.38888112198887\n",
      "Max reward so far:  261.22786123892126\n",
      "Model saved in file: output/weights/LunarLander/9/LunarLander-v2.ckpt\n",
      "==========================================\n",
      "Episode:  39\n",
      "Seconds:  0.27832494913934624\n",
      "Reward:  -12.046059887835412\n",
      "Max reward so far:  261.22786123892126\n",
      "Model saved in file: output/weights/LunarLander/9/LunarLander-v2.ckpt\n",
      "==========================================\n",
      "Episode:  40\n",
      "Seconds:  8.820410536905229\n",
      "Reward:  -251.05483007391535\n",
      "Max reward so far:  261.22786123892126\n",
      "Model saved in file: output/weights/LunarLander/9/LunarLander-v2.ckpt\n",
      "==========================================\n",
      "Episode:  41\n",
      "Seconds:  6.732903045987769\n",
      "Reward:  244.5031688593609\n",
      "Max reward so far:  261.22786123892126\n",
      "Model saved in file: output/weights/LunarLander/9/LunarLander-v2.ckpt\n",
      "==========================================\n",
      "Episode:  42\n",
      "Seconds:  8.289406935446664\n",
      "Reward:  -250.59438165631119\n",
      "Max reward so far:  261.22786123892126\n",
      "Model saved in file: output/weights/LunarLander/9/LunarLander-v2.ckpt\n",
      "==========================================\n",
      "Episode:  43\n",
      "Seconds:  9.06913503765611\n",
      "Reward:  -250.41547282899964\n",
      "Max reward so far:  261.22786123892126\n",
      "Model saved in file: output/weights/LunarLander/9/LunarLander-v2.ckpt\n",
      "==========================================\n",
      "Episode:  44\n",
      "Seconds:  0.9006732752050084\n",
      "Reward:  206.6468135719945\n",
      "Max reward so far:  261.22786123892126\n",
      "Model saved in file: output/weights/LunarLander/9/LunarLander-v2.ckpt\n",
      "==========================================\n",
      "Episode:  45\n",
      "Seconds:  0.12210105306434116\n",
      "Reward:  15.251354005930935\n",
      "Max reward so far:  261.22786123892126\n",
      "Model saved in file: output/weights/LunarLander/9/LunarLander-v2.ckpt\n",
      "==========================================\n",
      "Episode:  46\n",
      "Seconds:  1.0791883128667337\n",
      "Reward:  207.8203480278474\n",
      "Max reward so far:  261.22786123892126\n",
      "Model saved in file: output/weights/LunarLander/9/LunarLander-v2.ckpt\n",
      "==========================================\n",
      "Episode:  47\n",
      "Seconds:  9.801744126608185\n",
      "Reward:  -251.13029130599585\n",
      "Max reward so far:  261.22786123892126\n",
      "Model saved in file: output/weights/LunarLander/9/LunarLander-v2.ckpt\n",
      "==========================================\n",
      "Episode:  48\n",
      "Seconds:  8.353788236232845\n",
      "Reward:  -250.3156722545801\n",
      "Max reward so far:  261.22786123892126\n",
      "Model saved in file: output/weights/LunarLander/9/LunarLander-v2.ckpt\n",
      "==========================================\n",
      "Episode:  49\n",
      "Seconds:  9.001634356789566\n",
      "Reward:  -250.8646565929799\n",
      "Max reward so far:  261.22786123892126\n",
      "Model saved in file: output/weights/LunarLander/9/LunarLander-v2.ckpt\n"
     ]
    }
   ],
   "source": [
    "env = gym.make('LunarLander-v2')\n",
    "env = env.unwrapped\n",
    "\n",
    "# Policy gradient has high variance, seed for reproducability\n",
    "env.seed(1)\n",
    "\n",
    "print(\"env.action_space\", env.action_space)\n",
    "print(\"env.observation_space\", env.observation_space)\n",
    "print(\"env.observation_space.high\", env.observation_space.high)\n",
    "print(\"env.observation_space.low\", env.observation_space.low)\n",
    "\n",
    "\n",
    "RENDER_ENV = False\n",
    "EPISODES = 50\n",
    "rewards = []\n",
    "RENDER_REWARD_MIN = 5000\n",
    "max_reward_per_episode = []\n",
    "reward_per_episode = []\n",
    "total_episode = []\n",
    "\n",
    "\n",
    "\n",
    "# Load checkpoint\n",
    "load_version = 1\n",
    "save_version = load_version + 2\n",
    "load_path = \"output/weights/LunarLander/{}/LunarLander-v2.ckpt\".format(load_version)\n",
    "save_path = \"output/weights/LunarLander/{}/LunarLander-v2.ckpt\".format(save_version)\n",
    "\n",
    "PG = PolicyGradient(\n",
    "    n_x = env.observation_space.shape[0],\n",
    "    n_y = env.action_space.n,\n",
    "    learning_rate=0.02,\n",
    "    reward_decay=0.99,\n",
    "    load_path=load_path,\n",
    "    save_path=save_path\n",
    ")\n",
    "\n",
    "\n",
    "for episode in range(EPISODES):\n",
    "\n",
    "    observation = env.reset()\n",
    "    episode_reward = 0\n",
    "\n",
    "    tic = time.clock()\n",
    "\n",
    "    while True:\n",
    "        if RENDER_ENV: env.render()\n",
    "\n",
    "        # 1. Choose an action based on observation\n",
    "        action = PG.choose_action(observation)\n",
    "\n",
    "        # 2. Take action in the environment\n",
    "        observation_, reward, done, info = env.step(action)\n",
    "\n",
    "        # 4. Store transition for training\n",
    "        PG.store_transition(observation, action, reward)\n",
    "\n",
    "        toc = time.clock()\n",
    "        elapsed_sec = toc - tic\n",
    "        if elapsed_sec > 120:\n",
    "            done = True\n",
    "\n",
    "        episode_rewards_sum = sum(PG.episode_rewards)\n",
    "        if episode_rewards_sum < -250:\n",
    "            done = True\n",
    "\n",
    "        if done:\n",
    "            episode_rewards_sum = sum(PG.episode_rewards)\n",
    "            rewards.append(episode_rewards_sum)\n",
    "            max_reward_so_far = np.amax(rewards)\n",
    "\n",
    "            print(\"==========================================\")\n",
    "            print(\"Episode: \", episode)\n",
    "            print(\"Seconds: \", elapsed_sec)\n",
    "            print(\"Reward: \", episode_rewards_sum)\n",
    "            print(\"Max reward so far: \", max_reward_so_far)\n",
    "\n",
    "\n",
    "            max_reward_per_episode.append(max_reward_so_far)\n",
    "            reward_per_episode.append(episode_rewards_sum)\n",
    "            total_episode.append(episode)\n",
    "\n",
    "            # 5. Train neural network\n",
    "            discounted_episode_rewards_norm = PG.learn()\n",
    "\n",
    "            if max_reward_so_far > RENDER_REWARD_MIN: RENDER_ENV = True\n",
    "\n",
    "\n",
    "            break\n",
    "\n",
    "        # Save new observation\n",
    "        observation = observation_\n",
    "\n",
    "\n"
   ]
  },
  {
   "cell_type": "code",
   "execution_count": 4,
   "metadata": {},
   "outputs": [
    {
     "data": {
      "text/plain": [
       "Text(0,0.5,'Total Reward for episode')"
      ]
     },
     "execution_count": 4,
     "metadata": {},
     "output_type": "execute_result"
    },
    {
     "data": {
      "image/png": "[encoded data removed]",
      "text/plain": [
       "<Figure size 1440x1080 with 2 Axes>"
      ]
     },
     "metadata": {},
     "output_type": "display_data"
    }
   ],
   "source": [
    "plt.figure(figsize=(20,15))\n",
    "plt.subplot(2, 1, 1)\n",
    "plt.plot(total_episode, max_reward_per_episode,  'o-')\n",
    "plt.title('Reward Vs Episode', fontsize = 16)\n",
    "plt.ylabel('Max Rewards per episode', fontsize = 14)\n",
    "\n",
    "plt.subplot(2, 1, 2)\n",
    "plt.plot( total_episode, reward_per_episode, '.-')\n",
    "plt.xlabel('Episode', fontsize = 14)\n",
    "plt.ylabel('Total Reward for episode', fontsize = 14)"
   ]
  },
  {
   "cell_type": "markdown",
   "metadata": {
    "collapsed": true
   },
   "source": [
    "***\n",
    "***"
   ]
  },
  {
   "cell_type": "markdown",
   "metadata": {},
   "source": [
    "<a id=\"content8\"></a>\n",
    "## 8. Performance Analysis"
   ]
  },
  {
   "cell_type": "markdown",
   "metadata": {},
   "source": [
    "   - ### Initial Performane:"
   ]
  },
  {
   "cell_type": "markdown",
   "metadata": {},
   "source": [
    "![SegmentLocal](images/initial.gif \"segment\")"
   ]
  },
  {
   "cell_type": "markdown",
   "metadata": {},
   "source": [
    "   - ### Performance After 100 epochs: "
   ]
  },
  {
   "cell_type": "markdown",
   "metadata": {},
   "source": [
    "![SegmentLocal](images/100epochs.gif \"segment\")"
   ]
  },
  {
   "cell_type": "markdown",
   "metadata": {
    "collapsed": true
   },
   "source": [
    "   - ### Performance After 2500 epochs: "
   ]
  },
  {
   "cell_type": "markdown",
   "metadata": {},
   "source": [
    "![SegmentLocal](images/2500epochs.gif \"segment\")"
   ]
  },
  {
   "cell_type": "markdown",
   "metadata": {},
   "source": [
    "***\n",
    "***\n",
    "***"
   ]
  },
  {
   "cell_type": "markdown",
   "metadata": {},
   "source": [
    "<a id=\"content9\"></a>\n",
    "\n",
    "## 9. Observation"
   ]
  },
  {
   "cell_type": "markdown",
   "metadata": {},
   "source": [
    "  - The agent learns to land in the safe zone at the end.\n",
    "  - Improving the loss function may improve the performance.\n",
    "  - Bigger network architecture doesn't improve the learning process.\n",
    "  "
   ]
  },
  {
   "cell_type": "markdown",
   "metadata": {},
   "source": [
    "***\n",
    "***\n",
    "***"
   ]
  },
  {
   "cell_type": "markdown",
   "metadata": {},
   "source": [
    "<a id=\"content10\"></a>\n",
    "\n",
    "## 10. Conclusion"
   ]
  },
  {
   "cell_type": "markdown",
   "metadata": {},
   "source": [
    "<div style=\"text-align: justify; font-size:14px\">\n",
    "This project implements the very basic idea of reinforcement learning. Throughout my exploration in reinforcement learning, I've realized that there are advanced algorithms that can improve the performance of the agent. In future, I'll try to implement those advanced algorithms to improve the project.    \n",
    "</div>"
   ]
  },
  {
   "cell_type": "markdown",
   "metadata": {},
   "source": [
    "***\n",
    "***\n",
    "***"
   ]
  },
  {
   "cell_type": "markdown",
   "metadata": {},
   "source": [
    "## Reference"
   ]
  },
  {
   "cell_type": "markdown",
   "metadata": {},
   "source": [
    "  - Fundamentals of Deep Learning, Nikhil Buduma\n",
    "  - Sentdex [Youtube]"
   ]
  },
  {
   "cell_type": "markdown",
   "metadata": {},
   "source": []
  }
 ],
 "metadata": {
  "kernelspec": {
   "display_name": "Python 3",
   "language": "python",
   "name": "python3"
  },
  "language_info": {
   "codemirror_mode": {
    "name": "ipython",
    "version": 3
   },
   "file_extension": ".py",
   "mimetype": "text/x-python",
   "name": "python",
   "nbconvert_exporter": "python",
   "pygments_lexer": "ipython3",
   "version": "3.6.3"
  }
 },
 "nbformat": 4,
 "nbformat_minor": 2
}
