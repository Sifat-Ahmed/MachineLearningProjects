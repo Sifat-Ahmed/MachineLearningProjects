{
 "cells": [
  {
   "cell_type": "markdown",
   "metadata": {},
   "source": [
    "## 1. Importing Necessary Libraries ##"
   ]
  },
  {
   "cell_type": "code",
   "execution_count": 1,
   "metadata": {},
   "outputs": [
    {
     "name": "stderr",
     "output_type": "stream",
     "text": [
      "D:\\Anaconda3\\lib\\site-packages\\h5py\\__init__.py:34: FutureWarning: Conversion of the second argument of issubdtype from `float` to `np.floating` is deprecated. In future, it will be treated as `np.float64 == np.dtype(float).type`.\n",
      "  from ._conv import register_converters as _register_converters\n"
     ]
    }
   ],
   "source": [
    "import re\n",
    "\n",
    "import pickle as pkl\n",
    "import pandas as pd\n",
    "import numpy as np\n",
    "\n",
    "from matplotlib import pyplot as plt\n",
    "%matplotlib inline\n",
    "\n",
    "from nltk import SnowballStemmer\n",
    "from nltk.corpus import stopwords\n",
    "\n",
    "from sklearn.model_selection import train_test_split\n",
    "from sklearn.preprocessing import OneHotEncoder, LabelEncoder\n",
    "\n",
    "from tensorflow.keras.preprocessing.text import Tokenizer\n",
    "from tensorflow.keras.preprocessing.sequence import pad_sequences\n",
    "\n",
    "from tensorflow.keras.models import Sequential\n",
    "from tensorflow.keras.layers import Dense, Flatten, LSTM, Conv1D, MaxPooling1D, Dropout, Activation , Embedding, GlobalMaxPooling1D, Bidirectional\n",
    "\n",
    "from tensorflow.keras.callbacks import EarlyStopping"
   ]
  },
  {
   "cell_type": "code",
   "execution_count": 2,
   "metadata": {},
   "outputs": [
    {
     "name": "stdout",
     "output_type": "stream",
     "text": [
      "[name: \"/device:CPU:0\"\n",
      "device_type: \"CPU\"\n",
      "memory_limit: 268435456\n",
      "locality {\n",
      "}\n",
      "incarnation: 2550210358554002063\n",
      ", name: \"/device:GPU:0\"\n",
      "device_type: \"GPU\"\n",
      "memory_limit: 3157314764\n",
      "locality {\n",
      "  bus_id: 1\n",
      "  links {\n",
      "  }\n",
      "}\n",
      "incarnation: 5080481028806326649\n",
      "physical_device_desc: \"device: 0, name: GeForce GTX 1050 Ti, pci bus id: 0000:01:00.0, compute capability: 6.1\"\n",
      "]\n"
     ]
    }
   ],
   "source": [
    "from tensorflow.python.client import device_lib\n",
    "print(device_lib.list_local_devices())"
   ]
  },
  {
   "cell_type": "markdown",
   "metadata": {},
   "source": [
    "## 2. Reading and Visualization of the dataset"
   ]
  },
  {
   "cell_type": "code",
   "execution_count": 3,
   "metadata": {
    "collapsed": true
   },
   "outputs": [],
   "source": [
    "dataset_dir = 'dataset\\\\emotion_dataset.csv'\n",
    "glove_dir = 'glove\\\\glove.twitter.27B.100d.txt'"
   ]
  },
  {
   "cell_type": "code",
   "execution_count": 4,
   "metadata": {
    "collapsed": true
   },
   "outputs": [],
   "source": [
    "nltk_stop_words = list(stopwords.words('english'))"
   ]
  },
  {
   "cell_type": "code",
   "execution_count": 5,
   "metadata": {},
   "outputs": [
    {
     "data": {
      "text/html": [
       "<div>\n",
       "<style>\n",
       "    .dataframe thead tr:only-child th {\n",
       "        text-align: right;\n",
       "    }\n",
       "\n",
       "    .dataframe thead th {\n",
       "        text-align: left;\n",
       "    }\n",
       "\n",
       "    .dataframe tbody tr th {\n",
       "        vertical-align: top;\n",
       "    }\n",
       "</style>\n",
       "<table border=\"1\" class=\"dataframe\">\n",
       "  <thead>\n",
       "    <tr style=\"text-align: right;\">\n",
       "      <th></th>\n",
       "      <th>emotion</th>\n",
       "      <th>text</th>\n",
       "    </tr>\n",
       "  </thead>\n",
       "  <tbody>\n",
       "    <tr>\n",
       "      <th>0</th>\n",
       "      <td>joy</td>\n",
       "      <td>During the period of falling in love, each tim...</td>\n",
       "    </tr>\n",
       "    <tr>\n",
       "      <th>1</th>\n",
       "      <td>fear</td>\n",
       "      <td>When I was involved in a traffic accident.</td>\n",
       "    </tr>\n",
       "    <tr>\n",
       "      <th>2</th>\n",
       "      <td>anger</td>\n",
       "      <td>When I was driving home after  several days of...</td>\n",
       "    </tr>\n",
       "    <tr>\n",
       "      <th>3</th>\n",
       "      <td>sadness</td>\n",
       "      <td>When I lost the person who meant the most to me.</td>\n",
       "    </tr>\n",
       "    <tr>\n",
       "      <th>4</th>\n",
       "      <td>disgust</td>\n",
       "      <td>The time I knocked a deer down - the sight of ...</td>\n",
       "    </tr>\n",
       "  </tbody>\n",
       "</table>\n",
       "</div>"
      ],
      "text/plain": [
       "   emotion                                               text\n",
       "0      joy  During the period of falling in love, each tim...\n",
       "1     fear         When I was involved in a traffic accident.\n",
       "2    anger  When I was driving home after  several days of...\n",
       "3  sadness  When I lost the person who meant the most to me. \n",
       "4  disgust  The time I knocked a deer down - the sight of ..."
      ]
     },
     "execution_count": 5,
     "metadata": {},
     "output_type": "execute_result"
    }
   ],
   "source": [
    "dataset = pd.read_csv(dataset_dir, sep=',', index_col=0)\n",
    "dataset.head()"
   ]
  },
  {
   "cell_type": "code",
   "execution_count": 6,
   "metadata": {},
   "outputs": [
    {
     "data": {
      "text/html": [
       "<div>\n",
       "<style>\n",
       "    .dataframe thead tr:only-child th {\n",
       "        text-align: right;\n",
       "    }\n",
       "\n",
       "    .dataframe thead th {\n",
       "        text-align: left;\n",
       "    }\n",
       "\n",
       "    .dataframe tbody tr th {\n",
       "        vertical-align: top;\n",
       "    }\n",
       "</style>\n",
       "<table border=\"1\" class=\"dataframe\">\n",
       "  <thead>\n",
       "    <tr style=\"text-align: right;\">\n",
       "      <th></th>\n",
       "      <th>emotion</th>\n",
       "      <th>text</th>\n",
       "    </tr>\n",
       "  </thead>\n",
       "  <tbody>\n",
       "    <tr>\n",
       "      <th>0</th>\n",
       "      <td>disgust</td>\n",
       "      <td>Being looked at by someone I do not like.</td>\n",
       "    </tr>\n",
       "    <tr>\n",
       "      <th>1</th>\n",
       "      <td>disgust</td>\n",
       "      <td>A striking act of ingratitude at a public vehi...</td>\n",
       "    </tr>\n",
       "    <tr>\n",
       "      <th>2</th>\n",
       "      <td>shame</td>\n",
       "      <td>I met a friend in a discotheque. he was with a...</td>\n",
       "    </tr>\n",
       "    <tr>\n",
       "      <th>3</th>\n",
       "      <td>shame</td>\n",
       "      <td>Failing in the English language exam.</td>\n",
       "    </tr>\n",
       "    <tr>\n",
       "      <th>4</th>\n",
       "      <td>shame</td>\n",
       "      <td>I was very drunk at a certain wedding party an...</td>\n",
       "    </tr>\n",
       "  </tbody>\n",
       "</table>\n",
       "</div>"
      ],
      "text/plain": [
       "   emotion                                               text\n",
       "0  disgust          Being looked at by someone I do not like.\n",
       "1  disgust  A striking act of ingratitude at a public vehi...\n",
       "2    shame  I met a friend in a discotheque. he was with a...\n",
       "3    shame              Failing in the English language exam.\n",
       "4    shame  I was very drunk at a certain wedding party an..."
      ]
     },
     "execution_count": 6,
     "metadata": {},
     "output_type": "execute_result"
    }
   ],
   "source": [
    "dataset = dataset.sample(frac=1).reset_index(drop=True)\n",
    "dataset.head()"
   ]
  },
  {
   "cell_type": "code",
   "execution_count": 7,
   "metadata": {
    "collapsed": true
   },
   "outputs": [],
   "source": [
    "emotion = np.array(dataset['emotion'])"
   ]
  },
  {
   "cell_type": "code",
   "execution_count": 8,
   "metadata": {},
   "outputs": [
    {
     "name": "stdout",
     "output_type": "stream",
     "text": [
      "['disgust' 'shame' 'anger' 'joy' 'guilt' 'sadness' 'fear']\n"
     ]
    }
   ],
   "source": [
    "class_values = dataset['emotion'].unique()\n",
    "print(class_values)"
   ]
  },
  {
   "cell_type": "code",
   "execution_count": 9,
   "metadata": {},
   "outputs": [
    {
     "data": {
      "text/plain": [
       "emotion\n",
       "anger      1096\n",
       "disgust    1096\n",
       "fear       1095\n",
       "guilt      1093\n",
       "joy        1094\n",
       "sadness    1096\n",
       "shame      1096\n",
       "Name: text, dtype: int64"
      ]
     },
     "execution_count": 9,
     "metadata": {},
     "output_type": "execute_result"
    }
   ],
   "source": [
    "dataset.groupby('emotion')['text'].count()"
   ]
  },
  {
   "cell_type": "code",
   "execution_count": 10,
   "metadata": {},
   "outputs": [
    {
     "data": {
      "text/plain": [
       "<matplotlib.axes._subplots.AxesSubplot at 0x1efe1f64400>"
      ]
     },
     "execution_count": 10,
     "metadata": {},
     "output_type": "execute_result"
    },
    {
     "data": {
      "image/png": "[encoded data removed]",
      "text/plain": [
       "<Figure size 432x288 with 1 Axes>"
      ]
     },
     "metadata": {},
     "output_type": "display_data"
    }
   ],
   "source": [
    "dataset.groupby('emotion')['text'].count().plot(kind='bar' , title= 'Emotion Distribution')"
   ]
  },
  {
   "cell_type": "markdown",
   "metadata": {},
   "source": [
    "## 3. Preprocessing the Tweets"
   ]
  },
  {
   "cell_type": "code",
   "execution_count": 11,
   "metadata": {
    "collapsed": true
   },
   "outputs": [],
   "source": [
    "def preprocess_word(word):\n",
    "    # Remove punctuation\n",
    "    word = word.strip('\"?!,.():;')\n",
    "    # Convert more than 2 letter repetitions to 2 letter\n",
    "    # funnnnny --> funny\n",
    "    word = re.sub(r'(.)\\1+', r'\\1\\1', word)\n",
    "    # Remove - & '\n",
    "    #word = re.sub(r'(-|\\')', '', word)\n",
    "    return word\n"
   ]
  },
  {
   "cell_type": "code",
   "execution_count": 12,
   "metadata": {
    "collapsed": true
   },
   "outputs": [],
   "source": [
    "def is_valid_word(word):\n",
    "    # Check if word begins with an alphabet\n",
    "    return (re.search(r'^[a-zA-Z][a-z0-9A-Z\\._]*$', word) is not None)\n"
   ]
  },
  {
   "cell_type": "code",
   "execution_count": 13,
   "metadata": {
    "collapsed": true
   },
   "outputs": [],
   "source": [
    "def handle_emojis(text):\n",
    "    # Smile -- :), : ), :-), (:, ( :, (-:, :')\n",
    "    text = re.sub(r'(:\\s?\\)|:-\\)|\\(\\s?:|\\(-:|:\\'\\))', ' smile ', text)\n",
    "    # Laugh -- :D, : D, :-D, xD, x-D, XD, X-D\n",
    "    text = re.sub(r'(:\\s?D|:-D|x-?D|X-?D)', ' laugh ', text)\n",
    "    # Love -- <3, :*\n",
    "    text = re.sub(r'(<3|:\\*)', ' love ', text)\n",
    "    # Wink -- ;-), ;), ;-D, ;D, (;,  (-;\n",
    "    text = re.sub(r'(;-?\\)|;-?D|\\(-?;)', ' affection ', text)\n",
    "    # Sad -- :-(, : (, :(, ):, )-:\n",
    "    text = re.sub(r'(:\\s?\\(|:-\\(|\\)\\s?:|\\)-:)', ' sad ', text)\n",
    "    # Cry -- :,(, :'(, :\"(\n",
    "    text = re.sub(r'(:,\\(|:\\'\\(|:\"\\()', ' cry ', text)\n",
    "    return text"
   ]
  },
  {
   "cell_type": "code",
   "execution_count": 14,
   "metadata": {
    "collapsed": true
   },
   "outputs": [],
   "source": [
    "def preprocess_text(text):\n",
    "    processed_text = []\n",
    "    # Convert to lower case\n",
    "    text = text.lower()\n",
    "    #HTML removed\n",
    "    #html_process = BS(text, 'html.parser')\n",
    "    #text = html_process.get_text()\n",
    "    \n",
    "    text = re.sub(r\"what's\", \"what is \", text)\n",
    "    text = re.sub(r\"\\'s\", \" \", text)\n",
    "    text = re.sub(r\"\\'ve\", \" have \", text)\n",
    "    text = re.sub(r\"n't\", \" not \", text)\n",
    "    text = re.sub(r\"i'm\", \"i am \", text)\n",
    "    text = re.sub(r\"\\'re\", \" are \", text)\n",
    "    text = re.sub(r\"\\'d\", \" would \", text)\n",
    "    text = re.sub(r\"\\'ll\", \" will \", text)\n",
    "    \n",
    "    # Replaces URLs with the word URL\n",
    "    text = re.sub(r'((www\\.[\\S]+)|(https?://[\\S]+))', ' ', text)\n",
    "    # Replace @handle with the word USER_MENTION\n",
    "    text = re.sub(r'@[\\S]+', ' ', text)\n",
    "    # Replaces #hashtag with hashtag\n",
    "    text = re.sub(r'#(\\S+)', r' \\1 ', text)\n",
    "    # Remove RT (retext)\n",
    "    text = re.sub(r'\\brt\\b', '', text)\n",
    "    # Replace 2+ dots with space\n",
    "    text = re.sub(r'\\.{2,}', ' ', text)\n",
    "    # Strip space, \" and ' from text\n",
    "    #text = text.strip(' \"\\'')\n",
    "    # Replace emojis with either EMO_POS or EMO_NEG\n",
    "    text = handle_emojis(text)\n",
    "    # Replace multiple spaces with a single space\n",
    "    text = re.sub(r'\\s+', ' ', text)\n",
    "    # Striping numbers from the text\n",
    "    text = re.sub(r'\\d+', '', text)\n",
    "    \n",
    "    \n",
    "    words = text.split()\n",
    "    \n",
    "    stemmer = SnowballStemmer('english')\n",
    "\n",
    "    #Removing Stop Words and Stemming the Words\n",
    "    for word in words:\n",
    "        word = preprocess_word(word)\n",
    "        #if word not in nltk_stop_words and len(word)> 2:\n",
    "        \n",
    "        if is_valid_word(word):\n",
    "            stemmed_words = stemmer.stem(word)\n",
    "            processed_text.append(word)\n",
    "\n",
    "    return ' '.join(processed_text)"
   ]
  },
  {
   "cell_type": "code",
   "execution_count": 15,
   "metadata": {},
   "outputs": [
    {
     "data": {
      "text/html": [
       "<div>\n",
       "<style>\n",
       "    .dataframe thead tr:only-child th {\n",
       "        text-align: right;\n",
       "    }\n",
       "\n",
       "    .dataframe thead th {\n",
       "        text-align: left;\n",
       "    }\n",
       "\n",
       "    .dataframe tbody tr th {\n",
       "        vertical-align: top;\n",
       "    }\n",
       "</style>\n",
       "<table border=\"1\" class=\"dataframe\">\n",
       "  <thead>\n",
       "    <tr style=\"text-align: right;\">\n",
       "      <th></th>\n",
       "      <th>emotion</th>\n",
       "      <th>text</th>\n",
       "    </tr>\n",
       "  </thead>\n",
       "  <tbody>\n",
       "    <tr>\n",
       "      <th>0</th>\n",
       "      <td>disgust</td>\n",
       "      <td>being looked at by someone i do not like</td>\n",
       "    </tr>\n",
       "    <tr>\n",
       "      <th>1</th>\n",
       "      <td>disgust</td>\n",
       "      <td>a striking act of ingratitude at a public vehicle</td>\n",
       "    </tr>\n",
       "    <tr>\n",
       "      <th>2</th>\n",
       "      <td>shame</td>\n",
       "      <td>i met a friend in a discotheque he was with a ...</td>\n",
       "    </tr>\n",
       "    <tr>\n",
       "      <th>3</th>\n",
       "      <td>shame</td>\n",
       "      <td>failing in the english language exam</td>\n",
       "    </tr>\n",
       "    <tr>\n",
       "      <th>4</th>\n",
       "      <td>shame</td>\n",
       "      <td>i was very drunk at a certain wedding party an...</td>\n",
       "    </tr>\n",
       "  </tbody>\n",
       "</table>\n",
       "</div>"
      ],
      "text/plain": [
       "   emotion                                               text\n",
       "0  disgust           being looked at by someone i do not like\n",
       "1  disgust  a striking act of ingratitude at a public vehicle\n",
       "2    shame  i met a friend in a discotheque he was with a ...\n",
       "3    shame               failing in the english language exam\n",
       "4    shame  i was very drunk at a certain wedding party an..."
      ]
     },
     "execution_count": 15,
     "metadata": {},
     "output_type": "execute_result"
    }
   ],
   "source": [
    "dataset['text'] = dataset['text'].map(lambda x: preprocess_text(x))\n",
    "dataset.head()"
   ]
  },
  {
   "cell_type": "markdown",
   "metadata": {},
   "source": [
    "### Plot Function"
   ]
  },
  {
   "cell_type": "code",
   "execution_count": 16,
   "metadata": {
    "collapsed": true
   },
   "outputs": [],
   "source": [
    "def plot_model(history):\n",
    "    # Plot training & validation accuracy values\n",
    "    acc = history.history['acc']\n",
    "    val_acc = history.history['val_acc']\n",
    "    loss = history.history['loss']\n",
    "    val_loss = history.history['val_loss']\n",
    "    x = range(1, len(acc) + 1)\n",
    "\n",
    "    plt.figure(figsize=(12, 5))\n",
    "    plt.subplot(1, 2, 1)\n",
    "    plt.plot(x, acc, 'b', label='Training acc')\n",
    "    plt.plot(x, val_acc, 'r', label='Validation acc')\n",
    "    plt.title('Training and validation accuracy')\n",
    "    plt.legend()\n",
    "    plt.subplot(1, 2, 2)\n",
    "    plt.plot(x, loss, 'b', label='Training loss')\n",
    "    plt.plot(x, val_loss, 'r', label='Validation loss')\n",
    "    plt.title('Training and validation loss')\n",
    "    plt.legend()\n"
   ]
  },
  {
   "cell_type": "markdown",
   "metadata": {},
   "source": [
    "## 4. Label Encoding & Vectorization\n"
   ]
  },
  {
   "cell_type": "code",
   "execution_count": 17,
   "metadata": {},
   "outputs": [
    {
     "name": "stdout",
     "output_type": "stream",
     "text": [
      "['anger' 'disgust' 'fear' 'guilt' 'joy' 'sadness' 'shame']\n"
     ]
    }
   ],
   "source": [
    "label_encoder = LabelEncoder()\n",
    "encoded_label = label_encoder.fit_transform(emotion)\n",
    "\n",
    "print(label_encoder.classes_)\n",
    "\n",
    "label_OneHotEncoder = OneHotEncoder()\n",
    "encoded_label = label_OneHotEncoder.fit_transform(encoded_label.reshape(-1,1)).toarray()"
   ]
  },
  {
   "cell_type": "code",
   "execution_count": 18,
   "metadata": {
    "collapsed": true
   },
   "outputs": [],
   "source": [
    "vocabulary_size = 10000\n",
    "input_length = 100"
   ]
  },
  {
   "cell_type": "code",
   "execution_count": 19,
   "metadata": {
    "collapsed": true
   },
   "outputs": [],
   "source": [
    "tokenizer = Tokenizer(num_words= vocabulary_size)\n",
    "tokenizer.fit_on_texts(dataset['text'])\n",
    "sequences = tokenizer.texts_to_sequences(dataset['text'])\n",
    "data = pad_sequences(sequences, maxlen = input_length)\n",
    "\n",
    "file = open('saved_model\\\\tokenizer.pickle', 'wb')\n",
    "pkl.dump(tokenizer, file, protocol = pkl.HIGHEST_PROTOCOL)\n",
    "file.close()"
   ]
  },
  {
   "cell_type": "code",
   "execution_count": 20,
   "metadata": {
    "collapsed": true
   },
   "outputs": [],
   "source": [
    "train_data, test_data, train_label, test_label = train_test_split(data, encoded_label, test_size = 0.2)"
   ]
  },
  {
   "cell_type": "code",
   "execution_count": 21,
   "metadata": {
    "collapsed": true
   },
   "outputs": [],
   "source": [
    "num_classes = len(class_values)\n",
    "validation_split = 0.1"
   ]
  },
  {
   "cell_type": "markdown",
   "metadata": {},
   "source": [
    "## 5. Model Creation & Training"
   ]
  },
  {
   "cell_type": "markdown",
   "metadata": {},
   "source": [
    "### 5.1 Stacked LSTM Model"
   ]
  },
  {
   "cell_type": "code",
   "execution_count": 22,
   "metadata": {
    "collapsed": true
   },
   "outputs": [],
   "source": [
    "output_dim = 1000\n",
    "dense_input = 1000\n",
    "\n",
    "l1_dropout = 0.2\n",
    "l1_recurrent_dropout = 0.2\n",
    "\n",
    "l2_dropout = 0.2\n",
    "l2_recurrent_dropout = 0.2\n",
    "\n",
    "l1_lstm_units = 128\n",
    "l2_lstm_units = 64\n",
    "\n",
    "validation_split = 0.2\n",
    "epochs = 20\n",
    "\n",
    "callback_patience = 2"
   ]
  },
  {
   "cell_type": "code",
   "execution_count": 23,
   "metadata": {
    "collapsed": true
   },
   "outputs": [],
   "source": [
    "callback = [EarlyStopping(monitor='val_loss', patience = callback_patience)]"
   ]
  },
  {
   "cell_type": "code",
   "execution_count": 24,
   "metadata": {
    "collapsed": true
   },
   "outputs": [],
   "source": [
    "model = Sequential()\n",
    "\n",
    "model.add(Embedding(vocabulary_size, dense_input, input_length = input_length))\n",
    "model.add(Dense(dense_input, activation='tanh'))\n",
    "\n",
    "model.add(LSTM(l1_lstm_units, dropout = l1_dropout, recurrent_dropout = l1_recurrent_dropout, \n",
    "                             return_sequences = True, activation='tanh'))\n",
    "model.add(LSTM(l2_lstm_units, dropout = l2_dropout, recurrent_dropout = l2_recurrent_dropout, \n",
    "                             return_sequences = False, activation='tanh'))\n",
    "\n",
    "model.add(Dense(num_classes, activation='softmax'))\n",
    "\n",
    "model.compile(loss='categorical_crossentropy', optimizer='adam', metrics=['accuracy'])"
   ]
  },
  {
   "cell_type": "code",
   "execution_count": 25,
   "metadata": {},
   "outputs": [
    {
     "name": "stdout",
     "output_type": "stream",
     "text": [
      "_________________________________________________________________\n",
      "Layer (type)                 Output Shape              Param #   \n",
      "=================================================================\n",
      "embedding (Embedding)        (None, 100, 1000)         10000000  \n",
      "_________________________________________________________________\n",
      "dense (Dense)                (None, 100, 1000)         1001000   \n",
      "_________________________________________________________________\n",
      "lstm (LSTM)                  (None, 100, 128)          578048    \n",
      "_________________________________________________________________\n",
      "lstm_1 (LSTM)                (None, 64)                49408     \n",
      "_________________________________________________________________\n",
      "dense_1 (Dense)              (None, 7)                 455       \n",
      "=================================================================\n",
      "Total params: 11,628,911\n",
      "Trainable params: 11,628,911\n",
      "Non-trainable params: 0\n",
      "_________________________________________________________________\n"
     ]
    }
   ],
   "source": [
    "model.summary()"
   ]
  },
  {
   "cell_type": "code",
   "execution_count": 26,
   "metadata": {},
   "outputs": [
    {
     "name": "stderr",
     "output_type": "stream",
     "text": [
      "D:\\Anaconda3\\lib\\site-packages\\tensorflow\\python\\ops\\gradients_impl.py:112: UserWarning: Converting sparse IndexedSlices to a dense Tensor of unknown shape. This may consume a large amount of memory.\n",
      "  \"Converting sparse IndexedSlices to a dense Tensor of unknown shape. \"\n"
     ]
    },
    {
     "name": "stdout",
     "output_type": "stream",
     "text": [
      "Train on 4905 samples, validate on 1227 samples\n",
      "Epoch 1/20\n",
      "4905/4905 [==============================] - 110s 22ms/step - loss: 0.3689 - acc: 0.8636 - val_loss: 0.3133 - val_acc: 0.8797\n",
      "Epoch 2/20\n",
      "4905/4905 [==============================] - 110s 22ms/step - loss: 0.2476 - acc: 0.9044 - val_loss: 0.3219 - val_acc: 0.8771\n",
      "Epoch 3/20\n",
      "4905/4905 [==============================] - 113s 23ms/step - loss: 0.1538 - acc: 0.9439 - val_loss: 0.3437 - val_acc: 0.8726\n"
     ]
    },
    {
     "data": {
      "image/png": "[encoded data removed]",
      "text/plain": [
       "<Figure size 864x360 with 2 Axes>"
      ]
     },
     "metadata": {},
     "output_type": "display_data"
    }
   ],
   "source": [
    "history = model.fit(train_data, train_label, validation_split = validation_split, epochs=epochs, \n",
    "                    shuffle = True, callbacks = callback)\n",
    "\n",
    "plot_model(history)"
   ]
  },
  {
   "cell_type": "code",
   "execution_count": 27,
   "metadata": {},
   "outputs": [
    {
     "name": "stdout",
     "output_type": "stream",
     "text": [
      "1534/1534 [==============================] - 14s 9ms/step\n"
     ]
    },
    {
     "data": {
      "text/plain": [
       "[0.32418900530061634, 0.8821940885218057]"
      ]
     },
     "execution_count": 27,
     "metadata": {},
     "output_type": "execute_result"
    }
   ],
   "source": [
    "model.evaluate(test_data, test_label, verbose = 1)"
   ]
  },
  {
   "cell_type": "code",
   "execution_count": 28,
   "metadata": {
    "collapsed": true
   },
   "outputs": [],
   "source": [
    "model.save('saved_model\\model_1.h5')"
   ]
  },
  {
   "cell_type": "markdown",
   "metadata": {},
   "source": [
    "### 5.2 Stacked LSTM with 1D Convolutions"
   ]
  },
  {
   "cell_type": "code",
   "execution_count": 29,
   "metadata": {
    "collapsed": true
   },
   "outputs": [],
   "source": [
    "output_dim = 100\n",
    "dense_input = 1000\n",
    "\n",
    "dropout = 0.3\n",
    "\n",
    "conv1D_filters = 100\n",
    "conv1D_kernel_size = 5\n",
    "\n",
    "pool_size = 4\n",
    "\n",
    "l1_dropout = 0.2\n",
    "l1_recurrent_dropout = 0.2\n",
    "\n",
    "l2_dropout = 0.2\n",
    "l2_recurrent_dropout = 0.2\n",
    "\n",
    "l1_lstm_units = 64\n",
    "l2_lstm_units = 32"
   ]
  },
  {
   "cell_type": "code",
   "execution_count": 30,
   "metadata": {
    "collapsed": true
   },
   "outputs": [],
   "source": [
    "model_conv = Sequential()\n",
    "\n",
    "model_conv.add(Embedding(vocabulary_size, output_dim, input_length = input_length, trainable=False))\n",
    "model_conv.add(Dropout(dropout))\n",
    "#model_conv.add(Dense(output_dim, activation='tanh'))\n",
    "\n",
    "model_conv.add(Conv1D(filters = conv1D_filters, kernel_size = conv1D_kernel_size, activation = 'relu'))\n",
    "model_conv.add(MaxPooling1D(pool_size = pool_size))\n",
    "\n",
    "model_conv.add(LSTM(l1_lstm_units , dropout = l1_dropout, return_sequences=True, activation='relu'))\n",
    "model_conv.add(LSTM(l2_lstm_units , dropout = l2_dropout, return_sequences=False, activation='relu'))\n",
    "\n",
    "model_conv.add(Dense(num_classes, activation='softmax'))\n",
    "model_conv.compile(loss='categorical_crossentropy', optimizer='nadam', metrics=['accuracy'])"
   ]
  },
  {
   "cell_type": "code",
   "execution_count": 31,
   "metadata": {},
   "outputs": [
    {
     "name": "stdout",
     "output_type": "stream",
     "text": [
      "_________________________________________________________________\n",
      "Layer (type)                 Output Shape              Param #   \n",
      "=================================================================\n",
      "embedding_1 (Embedding)      (None, 100, 100)          1000000   \n",
      "_________________________________________________________________\n",
      "dropout (Dropout)            (None, 100, 100)          0         \n",
      "_________________________________________________________________\n",
      "conv1d (Conv1D)              (None, 96, 100)           50100     \n",
      "_________________________________________________________________\n",
      "max_pooling1d (MaxPooling1D) (None, 24, 100)           0         \n",
      "_________________________________________________________________\n",
      "lstm_2 (LSTM)                (None, 24, 64)            42240     \n",
      "_________________________________________________________________\n",
      "lstm_3 (LSTM)                (None, 32)                12416     \n",
      "_________________________________________________________________\n",
      "dense_2 (Dense)              (None, 7)                 231       \n",
      "=================================================================\n",
      "Total params: 1,104,987\n",
      "Trainable params: 104,987\n",
      "Non-trainable params: 1,000,000\n",
      "_________________________________________________________________\n"
     ]
    }
   ],
   "source": [
    "model_conv.summary()"
   ]
  },
  {
   "cell_type": "code",
   "execution_count": 32,
   "metadata": {},
   "outputs": [
    {
     "name": "stdout",
     "output_type": "stream",
     "text": [
      "Train on 4905 samples, validate on 1227 samples\n",
      "Epoch 1/20\n",
      "4905/4905 [==============================] - 31s 6ms/step - loss: 0.4110 - acc: 0.8570 - val_loss: 0.4097 - val_acc: 0.8571\n",
      "Epoch 2/20\n",
      "4905/4905 [==============================] - 26s 5ms/step - loss: 0.4093 - acc: 0.8571 - val_loss: 0.4086 - val_acc: 0.8571\n",
      "Epoch 3/20\n",
      "4905/4905 [==============================] - 25s 5ms/step - loss: 0.4076 - acc: 0.8571 - val_loss: 0.4053 - val_acc: 0.8571\n",
      "Epoch 4/20\n",
      "4905/4905 [==============================] - 26s 5ms/step - loss: 0.4015 - acc: 0.8572 - val_loss: 0.3943 - val_acc: 0.8588\n",
      "Epoch 5/20\n",
      "4905/4905 [==============================] - 27s 5ms/step - loss: 0.3896 - acc: 0.8589 - val_loss: 0.3845 - val_acc: 0.8604\n",
      "Epoch 6/20\n",
      "4905/4905 [==============================] - 27s 5ms/step - loss: 0.3739 - acc: 0.8645 - val_loss: 0.3685 - val_acc: 0.8649\n",
      "Epoch 7/20\n",
      "4905/4905 [==============================] - 27s 5ms/step - loss: 0.3564 - acc: 0.8667 - val_loss: 0.3633 - val_acc: 0.8660\n",
      "Epoch 8/20\n",
      "4905/4905 [==============================] - 26s 5ms/step - loss: 0.3496 - acc: 0.8691 - val_loss: 0.3616 - val_acc: 0.8677\n",
      "Epoch 9/20\n",
      "4905/4905 [==============================] - 26s 5ms/step - loss: 0.3345 - acc: 0.8735 - val_loss: 0.3577 - val_acc: 0.8681\n",
      "Epoch 10/20\n",
      "4905/4905 [==============================] - 26s 5ms/step - loss: 0.3238 - acc: 0.8767 - val_loss: 0.3520 - val_acc: 0.8703\n",
      "Epoch 11/20\n",
      "4905/4905 [==============================] - 26s 5ms/step - loss: 0.3155 - acc: 0.8776 - val_loss: 0.3592 - val_acc: 0.8706\n",
      "Epoch 12/20\n",
      "4905/4905 [==============================] - 27s 5ms/step - loss: 0.3056 - acc: 0.8813 - val_loss: 0.3460 - val_acc: 0.8715\n",
      "Epoch 13/20\n",
      "4905/4905 [==============================] - 25s 5ms/step - loss: 0.2969 - acc: 0.8827 - val_loss: 0.3434 - val_acc: 0.8725\n",
      "Epoch 14/20\n",
      "4905/4905 [==============================] - 27s 5ms/step - loss: 0.2871 - acc: 0.8869 - val_loss: 0.3490 - val_acc: 0.8732\n",
      "Epoch 15/20\n",
      "4905/4905 [==============================] - 26s 5ms/step - loss: 0.2786 - acc: 0.8889 - val_loss: 0.3485 - val_acc: 0.8748\n"
     ]
    },
    {
     "data": {
      "image/png": "[encoded data removed]",
      "text/plain": [
       "<Figure size 864x360 with 2 Axes>"
      ]
     },
     "metadata": {},
     "output_type": "display_data"
    }
   ],
   "source": [
    "history = model_conv.fit(train_data, train_label, validation_split = validation_split, epochs = epochs, \n",
    "                         shuffle = True, callbacks = callback)\n",
    "\n",
    "plot_model(history)"
   ]
  },
  {
   "cell_type": "code",
   "execution_count": 33,
   "metadata": {
    "collapsed": true
   },
   "outputs": [],
   "source": [
    "model_conv.save('saved_model\\model_conv.h5')"
   ]
  },
  {
   "cell_type": "code",
   "execution_count": 34,
   "metadata": {},
   "outputs": [
    {
     "name": "stdout",
     "output_type": "stream",
     "text": [
      "1534/1534 [==============================] - 3s 2ms/step\n"
     ]
    },
    {
     "data": {
      "text/plain": [
       "[0.34111062585918966, 0.8760477037908512]"
      ]
     },
     "execution_count": 34,
     "metadata": {},
     "output_type": "execute_result"
    }
   ],
   "source": [
    "model_conv.evaluate(test_data, test_label, verbose = 1)"
   ]
  },
  {
   "cell_type": "code",
   "execution_count": 35,
   "metadata": {
    "collapsed": true
   },
   "outputs": [],
   "source": [
    "embeddings_index = dict()\n",
    "f = open(glove_dir, encoding=\"utf8\")\n",
    "for line in f:\n",
    "    values = line.split()\n",
    "    word = values[0]\n",
    "    coefs = np.asarray(values[1:], dtype='float32')\n",
    "    embeddings_index[word] = coefs\n",
    "f.close()"
   ]
  },
  {
   "cell_type": "code",
   "execution_count": 36,
   "metadata": {
    "collapsed": true
   },
   "outputs": [],
   "source": [
    "embedding_matrix = np.zeros((vocabulary_size, output_dim))\n",
    "for word, index in tokenizer.word_index.items():\n",
    "    if index > vocabulary_size - 1:\n",
    "        break\n",
    "    else:\n",
    "        embedding_vector = embeddings_index.get(word)\n",
    "        if embedding_vector is not None:\n",
    "            embedding_matrix[index] = embedding_vector"
   ]
  },
  {
   "cell_type": "code",
   "execution_count": 37,
   "metadata": {
    "collapsed": true
   },
   "outputs": [],
   "source": [
    "output_dim = 100\n",
    "dense_input = 1000\n",
    "\n",
    "dropout = 0.3\n",
    "\n",
    "conv1D_filters = 100\n",
    "conv1D_kernel_size = 4\n",
    "\n",
    "pool_size = 5\n",
    "\n",
    "l1_dropout = 0.2\n",
    "l1_recurrent_dropout = 0.2\n",
    "\n",
    "l2_dropout = 0.2\n",
    "l2_recurrent_dropout = 0.2\n",
    "\n",
    "l1_lstm_units = 64\n",
    "l2_lstm_units = 32"
   ]
  },
  {
   "cell_type": "markdown",
   "metadata": {},
   "source": [
    "### 5.3 Stacked LSTM with 1D Convolutions on pretrained vector"
   ]
  },
  {
   "cell_type": "code",
   "execution_count": 38,
   "metadata": {
    "collapsed": true
   },
   "outputs": [],
   "source": [
    "model_glove = Sequential()\n",
    "model_glove.add(Embedding(vocabulary_size, output_dim, input_length = input_length, \n",
    "                          weights=[embedding_matrix], trainable=False))\n",
    "model_glove.add(Dropout(dropout))\n",
    "\n",
    "model_glove.add(Dense(output_dim, activation='relu'))\n",
    "\n",
    "model_glove.add(Conv1D(filters = conv1D_filters, kernel_size = conv1D_kernel_size, \n",
    "                       activation='relu'))\n",
    "model_glove.add(MaxPooling1D(pool_size = pool_size))\n",
    "\n",
    "model_glove.add(LSTM(l1_lstm_units , dropout = l1_dropout,\n",
    "                     return_sequences=True, activation='relu'))\n",
    "model_glove.add(LSTM(l2_lstm_units , dropout = l2_dropout,\n",
    "                     return_sequences=False , activation='relu'))\n",
    "\n",
    "model_glove.add(Dense(7, activation='softmax'))\n",
    "\n",
    "model_glove.compile(loss='categorical_crossentropy', optimizer='adam', metrics=['accuracy'])"
   ]
  },
  {
   "cell_type": "code",
   "execution_count": 39,
   "metadata": {},
   "outputs": [
    {
     "name": "stdout",
     "output_type": "stream",
     "text": [
      "_________________________________________________________________\n",
      "Layer (type)                 Output Shape              Param #   \n",
      "=================================================================\n",
      "embedding_2 (Embedding)      (None, 100, 100)          1000000   \n",
      "_________________________________________________________________\n",
      "dropout_1 (Dropout)          (None, 100, 100)          0         \n",
      "_________________________________________________________________\n",
      "dense_3 (Dense)              (None, 100, 100)          10100     \n",
      "_________________________________________________________________\n",
      "conv1d_1 (Conv1D)            (None, 97, 100)           40100     \n",
      "_________________________________________________________________\n",
      "max_pooling1d_1 (MaxPooling1 (None, 19, 100)           0         \n",
      "_________________________________________________________________\n",
      "lstm_4 (LSTM)                (None, 19, 64)            42240     \n",
      "_________________________________________________________________\n",
      "lstm_5 (LSTM)                (None, 32)                12416     \n",
      "_________________________________________________________________\n",
      "dense_4 (Dense)              (None, 7)                 231       \n",
      "=================================================================\n",
      "Total params: 1,105,087\n",
      "Trainable params: 105,087\n",
      "Non-trainable params: 1,000,000\n",
      "_________________________________________________________________\n"
     ]
    }
   ],
   "source": [
    "model_glove.summary()"
   ]
  },
  {
   "cell_type": "code",
   "execution_count": 40,
   "metadata": {},
   "outputs": [
    {
     "name": "stdout",
     "output_type": "stream",
     "text": [
      "Train on 4905 samples, validate on 1227 samples\n",
      "Epoch 1/20\n",
      "4905/4905 [==============================] - 25s 5ms/step - loss: 0.4099 - acc: 0.8571 - val_loss: 0.4095 - val_acc: 0.8571\n",
      "Epoch 2/20\n",
      "4905/4905 [==============================] - 22s 4ms/step - loss: 0.4078 - acc: 0.8571 - val_loss: 0.4050 - val_acc: 0.8571\n",
      "Epoch 3/20\n",
      "4905/4905 [==============================] - 21s 4ms/step - loss: 0.3914 - acc: 0.8585 - val_loss: 0.3664 - val_acc: 0.8638\n",
      "Epoch 4/20\n",
      "4905/4905 [==============================] - 21s 4ms/step - loss: 0.3601 - acc: 0.8652 - val_loss: 0.3452 - val_acc: 0.8681\n",
      "Epoch 5/20\n",
      "4905/4905 [==============================] - 22s 4ms/step - loss: 0.3457 - acc: 0.8698 - val_loss: 0.3283 - val_acc: 0.8751\n",
      "Epoch 6/20\n",
      "4905/4905 [==============================] - 22s 4ms/step - loss: 0.3296 - acc: 0.8746 - val_loss: 0.3158 - val_acc: 0.8780\n",
      "Epoch 7/20\n",
      "4905/4905 [==============================] - 22s 4ms/step - loss: 0.3193 - acc: 0.8784 - val_loss: 0.3092 - val_acc: 0.8802\n",
      "Epoch 8/20\n",
      "4905/4905 [==============================] - 22s 4ms/step - loss: 0.3016 - acc: 0.8863 - val_loss: 0.3078 - val_acc: 0.8822\n",
      "Epoch 9/20\n",
      "4905/4905 [==============================] - 22s 5ms/step - loss: 0.2916 - acc: 0.8892 - val_loss: 0.2996 - val_acc: 0.8858\n",
      "Epoch 10/20\n",
      "4905/4905 [==============================] - 22s 5ms/step - loss: 0.2857 - acc: 0.8915 - val_loss: 0.2970 - val_acc: 0.8862\n",
      "Epoch 11/20\n",
      "4905/4905 [==============================] - 22s 5ms/step - loss: 0.2764 - acc: 0.8943 - val_loss: 0.2963 - val_acc: 0.8872\n",
      "Epoch 12/20\n",
      "4905/4905 [==============================] - 22s 4ms/step - loss: 0.2711 - acc: 0.8962 - val_loss: 0.2869 - val_acc: 0.8907\n",
      "Epoch 13/20\n",
      "4905/4905 [==============================] - 23s 5ms/step - loss: 0.2643 - acc: 0.8978 - val_loss: 0.2840 - val_acc: 0.8878\n",
      "Epoch 14/20\n",
      "4905/4905 [==============================] - 22s 4ms/step - loss: 0.2613 - acc: 0.8981 - val_loss: 0.2869 - val_acc: 0.8902\n",
      "Epoch 15/20\n",
      "4905/4905 [==============================] - 22s 4ms/step - loss: 0.2497 - acc: 0.9022 - val_loss: 0.2900 - val_acc: 0.8916\n"
     ]
    },
    {
     "data": {
      "image/png": "[encoded data removed]",
      "text/plain": [
       "<Figure size 864x360 with 2 Axes>"
      ]
     },
     "metadata": {},
     "output_type": "display_data"
    }
   ],
   "source": [
    "history = model_glove.fit(train_data, train_label, validation_split = validation_split, epochs = epochs, \n",
    "                          shuffle = True, callbacks = callback)\n",
    "\n",
    "plot_model(history)"
   ]
  },
  {
   "cell_type": "code",
   "execution_count": 41,
   "metadata": {
    "collapsed": true
   },
   "outputs": [],
   "source": [
    "model_glove.save('saved_model\\model_glove.h5')"
   ]
  },
  {
   "cell_type": "code",
   "execution_count": 42,
   "metadata": {},
   "outputs": [
    {
     "name": "stdout",
     "output_type": "stream",
     "text": [
      "1534/1534 [==============================] - 3s 2ms/step\n"
     ]
    },
    {
     "data": {
      "text/plain": [
       "[0.28437979375601125, 0.8962563091337759]"
      ]
     },
     "execution_count": 42,
     "metadata": {},
     "output_type": "execute_result"
    }
   ],
   "source": [
    "model_glove.evaluate(test_data, test_label, verbose = 1)"
   ]
  },
  {
   "cell_type": "code",
   "execution_count": 43,
   "metadata": {},
   "outputs": [
    {
     "data": {
      "text/plain": [
       "array([[4.49284315e-02, 5.83278649e-02, 7.91815370e-02, ...,\n",
       "        3.84170949e-01, 5.23619056e-02, 2.19246209e-01],\n",
       "       [1.75495833e-01, 2.11243629e-01, 2.82221794e-01, ...,\n",
       "        6.98765963e-02, 6.75012693e-02, 1.14338405e-01],\n",
       "       [5.31904817e-01, 3.34906615e-02, 3.14568490e-01, ...,\n",
       "        5.30982332e-04, 1.58183705e-02, 5.36657646e-02],\n",
       "       ...,\n",
       "       [1.72065303e-01, 1.43964589e-01, 1.75923765e-01, ...,\n",
       "        9.02590975e-02, 1.11923255e-01, 1.73275530e-01],\n",
       "       [9.20550376e-02, 1.29976034e-01, 9.66612697e-02, ...,\n",
       "        2.82795489e-01, 1.54296830e-01, 1.41564369e-01],\n",
       "       [7.34430552e-02, 9.87241864e-02, 9.39606875e-02, ...,\n",
       "        2.88968801e-01, 1.30074367e-01, 1.87438369e-01]], dtype=float32)"
      ]
     },
     "execution_count": 43,
     "metadata": {},
     "output_type": "execute_result"
    }
   ],
   "source": [
    "model_conv.predict(test_data)"
   ]
  },
  {
   "cell_type": "markdown",
   "metadata": {},
   "source": [
    "## 6. Testing the all the above models with a random text"
   ]
  },
  {
   "cell_type": "code",
   "execution_count": 44,
   "metadata": {
    "collapsed": true
   },
   "outputs": [],
   "source": [
    "test_text = 'I am not happy'\n",
    "test_text = pd.Series(preprocess_text(test_text))\n",
    "\n",
    "sequences = tokenizer.texts_to_sequences(test_text)\n",
    "data = pad_sequences(sequences, maxlen = input_length)"
   ]
  },
  {
   "cell_type": "markdown",
   "metadata": {},
   "source": [
    "##### label_encoder.classes_[np.argmax(model.predict(data))]"
   ]
  },
  {
   "cell_type": "code",
   "execution_count": 45,
   "metadata": {},
   "outputs": [
    {
     "data": {
      "text/plain": [
       "'sadness'"
      ]
     },
     "execution_count": 45,
     "metadata": {},
     "output_type": "execute_result"
    }
   ],
   "source": [
    "label_encoder.classes_[np.argmax(model_conv.predict(data))]"
   ]
  },
  {
   "cell_type": "code",
   "execution_count": 46,
   "metadata": {},
   "outputs": [
    {
     "data": {
      "text/plain": [
       "'sadness'"
      ]
     },
     "execution_count": 46,
     "metadata": {},
     "output_type": "execute_result"
    }
   ],
   "source": [
    "label_encoder.classes_[np.argmax(model_glove.predict(data))]"
   ]
  },
  {
   "cell_type": "code",
   "execution_count": 47,
   "metadata": {},
   "outputs": [
    {
     "name": "stdout",
     "output_type": "stream",
     "text": [
      "['anger' 'disgust' 'fear' 'guilt' 'joy' 'sadness' 'shame']\n"
     ]
    }
   ],
   "source": [
    "print(label_encoder.classes_)"
   ]
  },
  {
   "cell_type": "code",
   "execution_count": 48,
   "metadata": {},
   "outputs": [
    {
     "data": {
      "text/plain": [
       "array([[0.02, 0.02, 0.02, 0.04, 0.6 , 0.24, 0.07]], dtype=float32)"
      ]
     },
     "execution_count": 48,
     "metadata": {},
     "output_type": "execute_result"
    }
   ],
   "source": [
    "np.around(model.predict(data), decimals = 2)"
   ]
  },
  {
   "cell_type": "code",
   "execution_count": 49,
   "metadata": {},
   "outputs": [
    {
     "data": {
      "text/plain": [
       "array([[0.12, 0.13, 0.11, 0.14, 0.15, 0.19, 0.16]], dtype=float32)"
      ]
     },
     "execution_count": 49,
     "metadata": {},
     "output_type": "execute_result"
    }
   ],
   "source": [
    "np.around(model_conv.predict(data), decimals = 2)"
   ]
  },
  {
   "cell_type": "code",
   "execution_count": 50,
   "metadata": {},
   "outputs": [
    {
     "data": {
      "text/plain": [
       "array([[0.09, 0.12, 0.18, 0.14, 0.1 , 0.2 , 0.17]], dtype=float32)"
      ]
     },
     "execution_count": 50,
     "metadata": {},
     "output_type": "execute_result"
    }
   ],
   "source": [
    "np.around(model_glove.predict(data), decimals = 2)"
   ]
  },
  {
   "cell_type": "markdown",
   "metadata": {
    "collapsed": true
   },
   "source": [
    "## 7. Reference"
   ]
  },
  {
   "cell_type": "markdown",
   "metadata": {},
   "source": [
    "1. https://github.com/sinmaniphel/py_isear_dataset [Dataset]"
   ]
  }
 ],
 "metadata": {
  "kernelspec": {
   "display_name": "Python 3",
   "language": "python",
   "name": "python3"
  },
  "language_info": {
   "codemirror_mode": {
    "name": "ipython",
    "version": 3
   },
   "file_extension": ".py",
   "mimetype": "text/x-python",
   "name": "python",
   "nbconvert_exporter": "python",
   "pygments_lexer": "ipython3",
   "version": "3.6.3"
  }
 },
 "nbformat": 4,
 "nbformat_minor": 2
}
